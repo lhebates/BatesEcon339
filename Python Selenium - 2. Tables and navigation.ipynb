{
 "cells": [
  {
   "cell_type": "markdown",
   "metadata": {},
   "source": [
    "This notebook illustrates how to use python to assist data collection for academic research. \n",
    "\n",
    "The collected data should only serve academic research purposes. \n",
    "\n",
    "One should never post the collected data in publicly accessible websites without explicit consent from the original website. \n",
    "\n",
    "One should never profit financially from the collected data. "
   ]
  },
  {
   "cell_type": "markdown",
   "metadata": {},
   "source": [
    "# Install required packages (only need to run the first time)"
   ]
  },
  {
   "cell_type": "code",
   "execution_count": null,
   "metadata": {},
   "outputs": [],
   "source": [
    "# First: install Anaconda python: https://www.anaconda.com/products/individual\n",
    "\n",
    "# install necessary packages\n",
    "## package: selenium for navigating webpages using google chrome\n",
    "# Note: also need to download chromedriver to hard drive\n",
    "!pip install selenium\n",
    "# install using: \n",
    "!pip3 install -U selenium\n",
    "# then:\n",
    "!pip3 install webdriver-manager\n",
    "\n",
    "## package: time for pausing the script execution\n",
    "!pip install time\n",
    "## package: BeautifulSoup for processing web scripts\n",
    "!pip install BeautifulSoup\n",
    "## package: pandas for process data\n",
    "!pip install pandas\n",
    "## package: os for accessing operating system information\n",
    "!pip install os\n",
    "## package: html5lib for parsing html\n",
    "!pip install html5lib"
   ]
  },
  {
   "cell_type": "code",
   "execution_count": 13,
   "metadata": {},
   "outputs": [
    {
     "name": "stdout",
     "output_type": "stream",
     "text": [
      "Collecting html5lib\n",
      "  Downloading html5lib-1.1-py2.py3-none-any.whl (112 kB)\n",
      "Requirement already satisfied: webencodings in c:\\users\\lhe\\anaconda3\\lib\\site-packages (from html5lib) (0.5.1)\n",
      "Requirement already satisfied: six>=1.9 in c:\\users\\lhe\\anaconda3\\lib\\site-packages (from html5lib) (1.16.0)\n",
      "Installing collected packages: html5lib\n",
      "Successfully installed html5lib-1.1\n"
     ]
    }
   ],
   "source": []
  },
  {
   "cell_type": "markdown",
   "metadata": {},
   "source": [
    "# Import required packages"
   ]
  },
  {
   "cell_type": "code",
   "execution_count": 1,
   "metadata": {},
   "outputs": [],
   "source": [
    "from selenium import webdriver\n",
    "# import Keys to allow for hotkeys\n",
    "from selenium.webdriver.common.keys import Keys\n",
    "# import ActionChains to allow for page scrolling\n",
    "from selenium.webdriver.common.action_chains import ActionChains\n",
    "# import expected_conditions to wait for elements to appear in web before preceeding\n",
    "from selenium.webdriver.common.by import By\n",
    "from selenium.webdriver.support.ui import WebDriverWait\n",
    "from selenium.webdriver.support import expected_conditions as EC\n",
    "# import Select to select options\n",
    "from selenium.webdriver.support.ui import Select\n",
    "\n",
    "from selenium.webdriver.chrome.service import Service\n",
    "# install using: \n",
    "#   pip3 install -U selenium\n",
    "# then:\n",
    "#   pip3 install webdriver-manager\n",
    "from webdriver_manager.chrome import ChromeDriverManager\n",
    "import time\n",
    "\n",
    "from time import sleep\n",
    "\n",
    "from bs4 import BeautifulSoup as soup\n",
    "\n",
    "import pandas as pd\n",
    "\n",
    "import os.path"
   ]
  },
  {
   "cell_type": "markdown",
   "metadata": {},
   "source": [
    "# Python selenium with chromedriver"
   ]
  },
  {
   "attachments": {},
   "cell_type": "markdown",
   "metadata": {},
   "source": [
    "We will use python selenium to control a chromedriver application to navigate websites.\n",
    "\n",
    "The chromedriver is an open source software that needs to be downloaded to the hard drive. "
   ]
  },
  {
   "cell_type": "markdown",
   "metadata": {},
   "source": [
    "After downloading the chromedriver to local disk, change the path and run:"
   ]
  },
  {
   "cell_type": "code",
   "execution_count": 2,
   "metadata": {},
   "outputs": [
    {
     "name": "stderr",
     "output_type": "stream",
     "text": [
      "[WDM] - Downloading: 100%|██████████| 6.79M/6.79M [00:00<00:00, 20.6MB/s]\n"
     ]
    }
   ],
   "source": [
    "# start a chrome browser\n",
    "driver = webdriver.Chrome(service=Service(ChromeDriverManager().install()))"
   ]
  },
  {
   "cell_type": "markdown",
   "metadata": {},
   "source": [
    "set url and load url"
   ]
  },
  {
   "cell_type": "code",
   "execution_count": 3,
   "metadata": {},
   "outputs": [],
   "source": [
    "# set url (as a text string)\n",
    "url = \"https://www.thedialogue.org/map_list/\"\n",
    "# load url\n",
    "driver.get(url)\n",
    "# notes: \n",
    "## driver is an object, the webdriver controlled by selenium\n",
    "## get is a method (think of it as a function) defined in the selenium package"
   ]
  },
  {
   "attachments": {},
   "cell_type": "markdown",
   "metadata": {},
   "source": [
    "# Task 1: collect information from a table"
   ]
  },
  {
   "attachments": {},
   "cell_type": "markdown",
   "metadata": {},
   "source": [
    "In this task, we will manually navigate to a table and then use bs4 and pandas to collect the information in a html table."
   ]
  },
  {
   "attachments": {},
   "cell_type": "markdown",
   "metadata": {},
   "source": [
    "From this site, we manually click: \"China-Latin America Finance Database\", and then click the first country on the list \"Venezuela\"."
   ]
  },
  {
   "cell_type": "code",
   "execution_count": 14,
   "metadata": {},
   "outputs": [
    {
     "ename": "NoSuchElementException",
     "evalue": "Message: no such element: Unable to locate element: {\"method\":\"xpath\",\"selector\":\"//div[@class='link policy']\"}\n  (Session info: chrome=109.0.5414.120)\nStacktrace:\nBacktrace:\n\t(No symbol) [0x00396643]\n\t(No symbol) [0x0032BE21]\n\t(No symbol) [0x0022DA9D]\n\t(No symbol) [0x00261342]\n\t(No symbol) [0x0026147B]\n\t(No symbol) [0x00298DC2]\n\t(No symbol) [0x0027FDC4]\n\t(No symbol) [0x00296B09]\n\t(No symbol) [0x0027FB76]\n\t(No symbol) [0x002549C1]\n\t(No symbol) [0x00255E5D]\n\tGetHandleVerifier [0x0060A142+2497106]\n\tGetHandleVerifier [0x006385D3+2686691]\n\tGetHandleVerifier [0x0063BB9C+2700460]\n\tGetHandleVerifier [0x00443B10+635936]\n\t(No symbol) [0x00334A1F]\n\t(No symbol) [0x0033A418]\n\t(No symbol) [0x0033A505]\n\t(No symbol) [0x0034508B]\n\tBaseThreadInitThunk [0x75FA00F9+25]\n\tRtlGetAppContainerNamedObjectPath [0x77157BBE+286]\n\tRtlGetAppContainerNamedObjectPath [0x77157B8E+238]\n",
     "output_type": "error",
     "traceback": [
      "\u001b[1;31m---------------------------------------------------------------------------\u001b[0m",
      "\u001b[1;31mNoSuchElementException\u001b[0m                    Traceback (most recent call last)",
      "\u001b[1;32mc:\\Users\\lhe\\Dropbox\\Teaching\\Bates ECON 339\\ECON 339 - GitHub\\BatesEcon339\\Python Selenium - 2. Tables and navigation.ipynb Cell 18\u001b[0m in \u001b[0;36m<cell line: 1>\u001b[1;34m()\u001b[0m\n\u001b[1;32m----> <a href='vscode-notebook-cell:/c%3A/Users/lhe/Dropbox/Teaching/Bates%20ECON%20339/ECON%20339%20-%20GitHub/BatesEcon339/Python%20Selenium%20-%202.%20Tables%20and%20navigation.ipynb#Y126sZmlsZQ%3D%3D?line=0'>1</a>\u001b[0m driver\u001b[39m.\u001b[39;49mfind_element(By\u001b[39m.\u001b[39;49mXPATH, value\u001b[39m=\u001b[39;49m\u001b[39m\"\u001b[39;49m\u001b[39m//div[@class=\u001b[39;49m\u001b[39m'\u001b[39;49m\u001b[39mlink policy\u001b[39;49m\u001b[39m'\u001b[39;49m\u001b[39m]\u001b[39;49m\u001b[39m\"\u001b[39;49m)\u001b[39m.\u001b[39mclick()\n",
      "File \u001b[1;32mc:\\Users\\lhe\\Anaconda3\\lib\\site-packages\\selenium\\webdriver\\remote\\webdriver.py:861\u001b[0m, in \u001b[0;36mWebDriver.find_element\u001b[1;34m(self, by, value)\u001b[0m\n\u001b[0;32m    858\u001b[0m     by \u001b[39m=\u001b[39m By\u001b[39m.\u001b[39mCSS_SELECTOR\n\u001b[0;32m    859\u001b[0m     value \u001b[39m=\u001b[39m \u001b[39m'\u001b[39m\u001b[39m[name=\u001b[39m\u001b[39m\"\u001b[39m\u001b[39m%s\u001b[39;00m\u001b[39m\"\u001b[39m\u001b[39m]\u001b[39m\u001b[39m'\u001b[39m \u001b[39m%\u001b[39m value\n\u001b[1;32m--> 861\u001b[0m \u001b[39mreturn\u001b[39;00m \u001b[39mself\u001b[39;49m\u001b[39m.\u001b[39;49mexecute(Command\u001b[39m.\u001b[39;49mFIND_ELEMENT, {\u001b[39m\"\u001b[39;49m\u001b[39musing\u001b[39;49m\u001b[39m\"\u001b[39;49m: by, \u001b[39m\"\u001b[39;49m\u001b[39mvalue\u001b[39;49m\u001b[39m\"\u001b[39;49m: value})[\u001b[39m\"\u001b[39m\u001b[39mvalue\u001b[39m\u001b[39m\"\u001b[39m]\n",
      "File \u001b[1;32mc:\\Users\\lhe\\Anaconda3\\lib\\site-packages\\selenium\\webdriver\\remote\\webdriver.py:444\u001b[0m, in \u001b[0;36mWebDriver.execute\u001b[1;34m(self, driver_command, params)\u001b[0m\n\u001b[0;32m    442\u001b[0m response \u001b[39m=\u001b[39m \u001b[39mself\u001b[39m\u001b[39m.\u001b[39mcommand_executor\u001b[39m.\u001b[39mexecute(driver_command, params)\n\u001b[0;32m    443\u001b[0m \u001b[39mif\u001b[39;00m response:\n\u001b[1;32m--> 444\u001b[0m     \u001b[39mself\u001b[39;49m\u001b[39m.\u001b[39;49merror_handler\u001b[39m.\u001b[39;49mcheck_response(response)\n\u001b[0;32m    445\u001b[0m     response[\u001b[39m\"\u001b[39m\u001b[39mvalue\u001b[39m\u001b[39m\"\u001b[39m] \u001b[39m=\u001b[39m \u001b[39mself\u001b[39m\u001b[39m.\u001b[39m_unwrap_value(response\u001b[39m.\u001b[39mget(\u001b[39m\"\u001b[39m\u001b[39mvalue\u001b[39m\u001b[39m\"\u001b[39m, \u001b[39mNone\u001b[39;00m))\n\u001b[0;32m    446\u001b[0m     \u001b[39mreturn\u001b[39;00m response\n",
      "File \u001b[1;32mc:\\Users\\lhe\\Anaconda3\\lib\\site-packages\\selenium\\webdriver\\remote\\errorhandler.py:249\u001b[0m, in \u001b[0;36mErrorHandler.check_response\u001b[1;34m(self, response)\u001b[0m\n\u001b[0;32m    247\u001b[0m         alert_text \u001b[39m=\u001b[39m value[\u001b[39m\"\u001b[39m\u001b[39malert\u001b[39m\u001b[39m\"\u001b[39m]\u001b[39m.\u001b[39mget(\u001b[39m\"\u001b[39m\u001b[39mtext\u001b[39m\u001b[39m\"\u001b[39m)\n\u001b[0;32m    248\u001b[0m     \u001b[39mraise\u001b[39;00m exception_class(message, screen, stacktrace, alert_text)  \u001b[39m# type: ignore[call-arg]  # mypy is not smart enough here\u001b[39;00m\n\u001b[1;32m--> 249\u001b[0m \u001b[39mraise\u001b[39;00m exception_class(message, screen, stacktrace)\n",
      "\u001b[1;31mNoSuchElementException\u001b[0m: Message: no such element: Unable to locate element: {\"method\":\"xpath\",\"selector\":\"//div[@class='link policy']\"}\n  (Session info: chrome=109.0.5414.120)\nStacktrace:\nBacktrace:\n\t(No symbol) [0x00396643]\n\t(No symbol) [0x0032BE21]\n\t(No symbol) [0x0022DA9D]\n\t(No symbol) [0x00261342]\n\t(No symbol) [0x0026147B]\n\t(No symbol) [0x00298DC2]\n\t(No symbol) [0x0027FDC4]\n\t(No symbol) [0x00296B09]\n\t(No symbol) [0x0027FB76]\n\t(No symbol) [0x002549C1]\n\t(No symbol) [0x00255E5D]\n\tGetHandleVerifier [0x0060A142+2497106]\n\tGetHandleVerifier [0x006385D3+2686691]\n\tGetHandleVerifier [0x0063BB9C+2700460]\n\tGetHandleVerifier [0x00443B10+635936]\n\t(No symbol) [0x00334A1F]\n\t(No symbol) [0x0033A418]\n\t(No symbol) [0x0033A505]\n\t(No symbol) [0x0034508B]\n\tBaseThreadInitThunk [0x75FA00F9+25]\n\tRtlGetAppContainerNamedObjectPath [0x77157BBE+286]\n\tRtlGetAppContainerNamedObjectPath [0x77157B8E+238]\n"
     ]
    }
   ],
   "source": [
    "driver.find_element(By.XPATH, value=\"//div[@class='link policy']\").click()"
   ]
  },
  {
   "attachments": {},
   "cell_type": "markdown",
   "metadata": {},
   "source": [
    "This website has `iframe` that contains the content source code. We need to first ask the driver to switch to the frame in order to access elements inside the frame. \n",
    "\n",
    "After searching `//iframe` in the browser source code, we found two iframes, the main content iframe is the first one. We will ask driver to switch to this frame."
   ]
  },
  {
   "cell_type": "code",
   "execution_count": 15,
   "metadata": {},
   "outputs": [],
   "source": [
    "driver.switch_to.frame(driver.find_elements(By.XPATH, \"//iframe\")[0])"
   ]
  },
  {
   "attachments": {},
   "cell_type": "markdown",
   "metadata": {},
   "source": [
    "Now the driver will be able to click on the link."
   ]
  },
  {
   "cell_type": "code",
   "execution_count": 16,
   "metadata": {},
   "outputs": [],
   "source": [
    "driver.find_element(By.XPATH, value=\"//div[@class='link policy']\").click()"
   ]
  },
  {
   "attachments": {},
   "cell_type": "markdown",
   "metadata": {},
   "source": [
    "Click on the first country in the country list. We skip the first div because it is a divider."
   ]
  },
  {
   "cell_type": "code",
   "execution_count": 17,
   "metadata": {},
   "outputs": [],
   "source": [
    "# find all elements in the country list, then click on the second one (first one is an empty divider)\n",
    "driver.find_elements(By.XPATH, value=\"//div[@class='NestedList Policy active']/div\")[1].click()"
   ]
  },
  {
   "attachments": {},
   "cell_type": "markdown",
   "metadata": {},
   "source": [
    "Right click on the table, and choose \"inspect\". \n",
    "\n",
    "In the \"Elements\" pane, we see that the table is contained under a `<table>` tag, with attribute `class=\"investmentTable\"`.\n",
    "\n",
    "We would like to check if the table is unique on the webpage. For that, click in the \"Elements\" pane, and then hit \"Cmd + F\" on mac, or \"Ctr + F\" on PC. In the search bar, type xpath selector `//table` to see how many tables can be found. We found only one.\n",
    "\n",
    "The python pandas package contains a function that parses data from html table very efficiently. We will take this approach."
   ]
  },
  {
   "cell_type": "code",
   "execution_count": 24,
   "metadata": {},
   "outputs": [
    {
     "data": {
      "text/html": [
       "<div>\n",
       "<style scoped>\n",
       "    .dataframe tbody tr th:only-of-type {\n",
       "        vertical-align: middle;\n",
       "    }\n",
       "\n",
       "    .dataframe tbody tr th {\n",
       "        vertical-align: top;\n",
       "    }\n",
       "\n",
       "    .dataframe thead th {\n",
       "        text-align: right;\n",
       "    }\n",
       "</style>\n",
       "<table border=\"1\" class=\"dataframe\">\n",
       "  <thead>\n",
       "    <tr style=\"text-align: right;\">\n",
       "      <th></th>\n",
       "      <th>Date</th>\n",
       "      <th>Types</th>\n",
       "      <th>Purpose</th>\n",
       "      <th>Lender</th>\n",
       "      <th>Amount</th>\n",
       "    </tr>\n",
       "  </thead>\n",
       "  <tbody>\n",
       "    <tr>\n",
       "      <th>0</th>\n",
       "      <td>November 2007</td>\n",
       "      <td>Energy</td>\n",
       "      <td>Joint Fund - Tranche A</td>\n",
       "      <td>CDB</td>\n",
       "      <td>$4.0B</td>\n",
       "    </tr>\n",
       "    <tr>\n",
       "      <th>1</th>\n",
       "      <td>April 2009</td>\n",
       "      <td>Energy</td>\n",
       "      <td>Joint Fund - Tranche B</td>\n",
       "      <td>CDB</td>\n",
       "      <td>$4.0B</td>\n",
       "    </tr>\n",
       "    <tr>\n",
       "      <th>2</th>\n",
       "      <td>December 2009</td>\n",
       "      <td>Mining</td>\n",
       "      <td>Mining project credit</td>\n",
       "      <td>CDB</td>\n",
       "      <td>$1.0B</td>\n",
       "    </tr>\n",
       "    <tr>\n",
       "      <th>3</th>\n",
       "      <td>December 2009</td>\n",
       "      <td>Energy</td>\n",
       "      <td>Not specified</td>\n",
       "      <td>Ex-Im Bank</td>\n",
       "      <td>$500M</td>\n",
       "    </tr>\n",
       "    <tr>\n",
       "      <th>4</th>\n",
       "      <td>August 2010</td>\n",
       "      <td>Energy</td>\n",
       "      <td>Joint Fund - Long-Term Facility</td>\n",
       "      <td>CDB</td>\n",
       "      <td>$20.3B</td>\n",
       "    </tr>\n",
       "    <tr>\n",
       "      <th>5</th>\n",
       "      <td>June 2011</td>\n",
       "      <td>Energy</td>\n",
       "      <td>Joint Fund - Tranche A renewal</td>\n",
       "      <td>CDB</td>\n",
       "      <td>$4.0B</td>\n",
       "    </tr>\n",
       "    <tr>\n",
       "      <th>6</th>\n",
       "      <td>November 2011</td>\n",
       "      <td>Energy</td>\n",
       "      <td>Abreu e Lima refinery</td>\n",
       "      <td>CDB</td>\n",
       "      <td>$1.5B</td>\n",
       "    </tr>\n",
       "    <tr>\n",
       "      <th>7</th>\n",
       "      <td>February 2012</td>\n",
       "      <td>Energy</td>\n",
       "      <td>Purchase of oil-related products</td>\n",
       "      <td>CDB</td>\n",
       "      <td>$500M</td>\n",
       "    </tr>\n",
       "    <tr>\n",
       "      <th>8</th>\n",
       "      <td>August 2012</td>\n",
       "      <td>Energy</td>\n",
       "      <td>Joint Fund - Tranche B renewal</td>\n",
       "      <td>CDB</td>\n",
       "      <td>$4.0B</td>\n",
       "    </tr>\n",
       "    <tr>\n",
       "      <th>9</th>\n",
       "      <td>June 2013</td>\n",
       "      <td>Energy</td>\n",
       "      <td>Sinovensa production in Orinoco</td>\n",
       "      <td>CDB</td>\n",
       "      <td>$4.0B</td>\n",
       "    </tr>\n",
       "    <tr>\n",
       "      <th>10</th>\n",
       "      <td>November 2013</td>\n",
       "      <td>Energy</td>\n",
       "      <td>Joint Fund - Tranche C</td>\n",
       "      <td>CDB</td>\n",
       "      <td>$5.0B</td>\n",
       "    </tr>\n",
       "    <tr>\n",
       "      <th>11</th>\n",
       "      <td>September 2013</td>\n",
       "      <td>Mining</td>\n",
       "      <td>Las Cristinas gold mine</td>\n",
       "      <td>CDB</td>\n",
       "      <td>$700M</td>\n",
       "    </tr>\n",
       "    <tr>\n",
       "      <th>12</th>\n",
       "      <td>September 2013</td>\n",
       "      <td>Infrastructure</td>\n",
       "      <td>Pequiven marine terminal</td>\n",
       "      <td>Ex-Im Bank</td>\n",
       "      <td>$391M</td>\n",
       "    </tr>\n",
       "    <tr>\n",
       "      <th>13</th>\n",
       "      <td>July 2014</td>\n",
       "      <td>Infrastructure</td>\n",
       "      <td>Joint Fund - Tranche A renewal</td>\n",
       "      <td>Ex-Im Bank</td>\n",
       "      <td>$4.0B</td>\n",
       "    </tr>\n",
       "    <tr>\n",
       "      <th>14</th>\n",
       "      <td>January 2014</td>\n",
       "      <td>Energy</td>\n",
       "      <td>Working capital, PDVSA</td>\n",
       "      <td>CDB</td>\n",
       "      <td>$1.5B</td>\n",
       "    </tr>\n",
       "    <tr>\n",
       "      <th>15</th>\n",
       "      <td>April 2015</td>\n",
       "      <td>Energy</td>\n",
       "      <td>Joint Fund - Tranche B renewal</td>\n",
       "      <td>CDB</td>\n",
       "      <td>$5.0B</td>\n",
       "    </tr>\n",
       "    <tr>\n",
       "      <th>16</th>\n",
       "      <td>November 2016</td>\n",
       "      <td>Energy</td>\n",
       "      <td>Oil sector development</td>\n",
       "      <td>CDB</td>\n",
       "      <td>$2.2B</td>\n",
       "    </tr>\n",
       "  </tbody>\n",
       "</table>\n",
       "</div>"
      ],
      "text/plain": [
       "              Date           Types                           Purpose  \\\n",
       "0    November 2007          Energy            Joint Fund - Tranche A   \n",
       "1       April 2009          Energy            Joint Fund - Tranche B   \n",
       "2    December 2009          Mining             Mining project credit   \n",
       "3    December 2009          Energy                     Not specified   \n",
       "4      August 2010          Energy   Joint Fund - Long-Term Facility   \n",
       "5        June 2011          Energy    Joint Fund - Tranche A renewal   \n",
       "6    November 2011          Energy             Abreu e Lima refinery   \n",
       "7    February 2012          Energy  Purchase of oil-related products   \n",
       "8      August 2012          Energy    Joint Fund - Tranche B renewal   \n",
       "9        June 2013          Energy   Sinovensa production in Orinoco   \n",
       "10   November 2013          Energy            Joint Fund - Tranche C   \n",
       "11  September 2013          Mining           Las Cristinas gold mine   \n",
       "12  September 2013  Infrastructure          Pequiven marine terminal   \n",
       "13       July 2014  Infrastructure    Joint Fund - Tranche A renewal   \n",
       "14    January 2014          Energy            Working capital, PDVSA   \n",
       "15      April 2015          Energy    Joint Fund - Tranche B renewal   \n",
       "16   November 2016          Energy            Oil sector development   \n",
       "\n",
       "        Lender  Amount  \n",
       "0          CDB   $4.0B  \n",
       "1          CDB   $4.0B  \n",
       "2          CDB   $1.0B  \n",
       "3   Ex-Im Bank   $500M  \n",
       "4          CDB  $20.3B  \n",
       "5          CDB   $4.0B  \n",
       "6          CDB   $1.5B  \n",
       "7          CDB   $500M  \n",
       "8          CDB   $4.0B  \n",
       "9          CDB   $4.0B  \n",
       "10         CDB   $5.0B  \n",
       "11         CDB   $700M  \n",
       "12  Ex-Im Bank   $391M  \n",
       "13  Ex-Im Bank   $4.0B  \n",
       "14         CDB   $1.5B  \n",
       "15         CDB   $5.0B  \n",
       "16         CDB   $2.2B  "
      ]
     },
     "execution_count": 24,
     "metadata": {},
     "output_type": "execute_result"
    }
   ],
   "source": [
    "# read (the first and only) table into a list\n",
    "table_df = pd.read_html(driver.page_source)\n",
    "# convert list to dataframe\n",
    "table_df = pd.DataFrame(table_df[0])\n",
    "# inspect dataframe\n",
    "table_df"
   ]
  },
  {
   "cell_type": "code",
   "execution_count": 33,
   "metadata": {
    "scrolled": true
   },
   "outputs": [
    {
     "data": {
      "text/html": [
       "<div>\n",
       "<style scoped>\n",
       "    .dataframe tbody tr th:only-of-type {\n",
       "        vertical-align: middle;\n",
       "    }\n",
       "\n",
       "    .dataframe tbody tr th {\n",
       "        vertical-align: top;\n",
       "    }\n",
       "\n",
       "    .dataframe thead th {\n",
       "        text-align: right;\n",
       "    }\n",
       "</style>\n",
       "<table border=\"1\" class=\"dataframe\">\n",
       "  <thead>\n",
       "    <tr style=\"text-align: right;\">\n",
       "      <th></th>\n",
       "      <th>Date</th>\n",
       "      <th>Types</th>\n",
       "      <th>Purpose</th>\n",
       "      <th>Lender</th>\n",
       "      <th>Amount</th>\n",
       "      <th>Country</th>\n",
       "    </tr>\n",
       "  </thead>\n",
       "  <tbody>\n",
       "    <tr>\n",
       "      <th>0</th>\n",
       "      <td>November 2007</td>\n",
       "      <td>Energy</td>\n",
       "      <td>Joint Fund - Tranche A</td>\n",
       "      <td>CDB</td>\n",
       "      <td>$4.0B</td>\n",
       "      <td>Venezuela</td>\n",
       "    </tr>\n",
       "    <tr>\n",
       "      <th>1</th>\n",
       "      <td>April 2009</td>\n",
       "      <td>Energy</td>\n",
       "      <td>Joint Fund - Tranche B</td>\n",
       "      <td>CDB</td>\n",
       "      <td>$4.0B</td>\n",
       "      <td>Venezuela</td>\n",
       "    </tr>\n",
       "    <tr>\n",
       "      <th>2</th>\n",
       "      <td>December 2009</td>\n",
       "      <td>Mining</td>\n",
       "      <td>Mining project credit</td>\n",
       "      <td>CDB</td>\n",
       "      <td>$1.0B</td>\n",
       "      <td>Venezuela</td>\n",
       "    </tr>\n",
       "    <tr>\n",
       "      <th>3</th>\n",
       "      <td>December 2009</td>\n",
       "      <td>Energy</td>\n",
       "      <td>Not specified</td>\n",
       "      <td>Ex-Im Bank</td>\n",
       "      <td>$500M</td>\n",
       "      <td>Venezuela</td>\n",
       "    </tr>\n",
       "    <tr>\n",
       "      <th>4</th>\n",
       "      <td>August 2010</td>\n",
       "      <td>Energy</td>\n",
       "      <td>Joint Fund - Long-Term Facility</td>\n",
       "      <td>CDB</td>\n",
       "      <td>$20.3B</td>\n",
       "      <td>Venezuela</td>\n",
       "    </tr>\n",
       "    <tr>\n",
       "      <th>5</th>\n",
       "      <td>June 2011</td>\n",
       "      <td>Energy</td>\n",
       "      <td>Joint Fund - Tranche A renewal</td>\n",
       "      <td>CDB</td>\n",
       "      <td>$4.0B</td>\n",
       "      <td>Venezuela</td>\n",
       "    </tr>\n",
       "    <tr>\n",
       "      <th>6</th>\n",
       "      <td>November 2011</td>\n",
       "      <td>Energy</td>\n",
       "      <td>Abreu e Lima refinery</td>\n",
       "      <td>CDB</td>\n",
       "      <td>$1.5B</td>\n",
       "      <td>Venezuela</td>\n",
       "    </tr>\n",
       "    <tr>\n",
       "      <th>7</th>\n",
       "      <td>February 2012</td>\n",
       "      <td>Energy</td>\n",
       "      <td>Purchase of oil-related products</td>\n",
       "      <td>CDB</td>\n",
       "      <td>$500M</td>\n",
       "      <td>Venezuela</td>\n",
       "    </tr>\n",
       "    <tr>\n",
       "      <th>8</th>\n",
       "      <td>August 2012</td>\n",
       "      <td>Energy</td>\n",
       "      <td>Joint Fund - Tranche B renewal</td>\n",
       "      <td>CDB</td>\n",
       "      <td>$4.0B</td>\n",
       "      <td>Venezuela</td>\n",
       "    </tr>\n",
       "    <tr>\n",
       "      <th>9</th>\n",
       "      <td>June 2013</td>\n",
       "      <td>Energy</td>\n",
       "      <td>Sinovensa production in Orinoco</td>\n",
       "      <td>CDB</td>\n",
       "      <td>$4.0B</td>\n",
       "      <td>Venezuela</td>\n",
       "    </tr>\n",
       "    <tr>\n",
       "      <th>10</th>\n",
       "      <td>November 2013</td>\n",
       "      <td>Energy</td>\n",
       "      <td>Joint Fund - Tranche C</td>\n",
       "      <td>CDB</td>\n",
       "      <td>$5.0B</td>\n",
       "      <td>Venezuela</td>\n",
       "    </tr>\n",
       "    <tr>\n",
       "      <th>11</th>\n",
       "      <td>September 2013</td>\n",
       "      <td>Mining</td>\n",
       "      <td>Las Cristinas gold mine</td>\n",
       "      <td>CDB</td>\n",
       "      <td>$700M</td>\n",
       "      <td>Venezuela</td>\n",
       "    </tr>\n",
       "    <tr>\n",
       "      <th>12</th>\n",
       "      <td>September 2013</td>\n",
       "      <td>Infrastructure</td>\n",
       "      <td>Pequiven marine terminal</td>\n",
       "      <td>Ex-Im Bank</td>\n",
       "      <td>$391M</td>\n",
       "      <td>Venezuela</td>\n",
       "    </tr>\n",
       "    <tr>\n",
       "      <th>13</th>\n",
       "      <td>July 2014</td>\n",
       "      <td>Infrastructure</td>\n",
       "      <td>Joint Fund - Tranche A renewal</td>\n",
       "      <td>Ex-Im Bank</td>\n",
       "      <td>$4.0B</td>\n",
       "      <td>Venezuela</td>\n",
       "    </tr>\n",
       "    <tr>\n",
       "      <th>14</th>\n",
       "      <td>January 2014</td>\n",
       "      <td>Energy</td>\n",
       "      <td>Working capital, PDVSA</td>\n",
       "      <td>CDB</td>\n",
       "      <td>$1.5B</td>\n",
       "      <td>Venezuela</td>\n",
       "    </tr>\n",
       "    <tr>\n",
       "      <th>15</th>\n",
       "      <td>April 2015</td>\n",
       "      <td>Energy</td>\n",
       "      <td>Joint Fund - Tranche B renewal</td>\n",
       "      <td>CDB</td>\n",
       "      <td>$5.0B</td>\n",
       "      <td>Venezuela</td>\n",
       "    </tr>\n",
       "    <tr>\n",
       "      <th>16</th>\n",
       "      <td>November 2016</td>\n",
       "      <td>Energy</td>\n",
       "      <td>Oil sector development</td>\n",
       "      <td>CDB</td>\n",
       "      <td>$2.2B</td>\n",
       "      <td>Venezuela</td>\n",
       "    </tr>\n",
       "  </tbody>\n",
       "</table>\n",
       "</div>"
      ],
      "text/plain": [
       "              Date           Types                           Purpose  \\\n",
       "0    November 2007          Energy            Joint Fund - Tranche A   \n",
       "1       April 2009          Energy            Joint Fund - Tranche B   \n",
       "2    December 2009          Mining             Mining project credit   \n",
       "3    December 2009          Energy                     Not specified   \n",
       "4      August 2010          Energy   Joint Fund - Long-Term Facility   \n",
       "5        June 2011          Energy    Joint Fund - Tranche A renewal   \n",
       "6    November 2011          Energy             Abreu e Lima refinery   \n",
       "7    February 2012          Energy  Purchase of oil-related products   \n",
       "8      August 2012          Energy    Joint Fund - Tranche B renewal   \n",
       "9        June 2013          Energy   Sinovensa production in Orinoco   \n",
       "10   November 2013          Energy            Joint Fund - Tranche C   \n",
       "11  September 2013          Mining           Las Cristinas gold mine   \n",
       "12  September 2013  Infrastructure          Pequiven marine terminal   \n",
       "13       July 2014  Infrastructure    Joint Fund - Tranche A renewal   \n",
       "14    January 2014          Energy            Working capital, PDVSA   \n",
       "15      April 2015          Energy    Joint Fund - Tranche B renewal   \n",
       "16   November 2016          Energy            Oil sector development   \n",
       "\n",
       "        Lender  Amount    Country  \n",
       "0          CDB   $4.0B  Venezuela  \n",
       "1          CDB   $4.0B  Venezuela  \n",
       "2          CDB   $1.0B  Venezuela  \n",
       "3   Ex-Im Bank   $500M  Venezuela  \n",
       "4          CDB  $20.3B  Venezuela  \n",
       "5          CDB   $4.0B  Venezuela  \n",
       "6          CDB   $1.5B  Venezuela  \n",
       "7          CDB   $500M  Venezuela  \n",
       "8          CDB   $4.0B  Venezuela  \n",
       "9          CDB   $4.0B  Venezuela  \n",
       "10         CDB   $5.0B  Venezuela  \n",
       "11         CDB   $700M  Venezuela  \n",
       "12  Ex-Im Bank   $391M  Venezuela  \n",
       "13  Ex-Im Bank   $4.0B  Venezuela  \n",
       "14         CDB   $1.5B  Venezuela  \n",
       "15         CDB   $5.0B  Venezuela  \n",
       "16         CDB   $2.2B  Venezuela  "
      ]
     },
     "execution_count": 33,
     "metadata": {},
     "output_type": "execute_result"
    }
   ],
   "source": [
    "# add a column for the country name\n",
    "table_df['Country'] = \"Venezuela\"\n",
    "# save dataframe to csv\n",
    "table_df.to_csv(\"/Users/lhe/Downloads/finance_Venezuela.csv\", index = False)\n",
    "# inspect dataframe\n",
    "table_df"
   ]
  },
  {
   "attachments": {},
   "cell_type": "markdown",
   "metadata": {},
   "source": [
    "Browser back to previous page, returning to the list of countries."
   ]
  },
  {
   "cell_type": "code",
   "execution_count": 37,
   "metadata": {},
   "outputs": [],
   "source": [
    "# driver back\n",
    "driver.back()"
   ]
  },
  {
   "attachments": {},
   "cell_type": "markdown",
   "metadata": {},
   "source": [
    "# Task 2: Loop through the list of countries"
   ]
  },
  {
   "attachments": {},
   "cell_type": "markdown",
   "metadata": {},
   "source": [
    "We can keep clicking on each country by hand, or change the index of country div in the previous code, and repeat the process to manually save the table for each country. But is there a more automated way?\n",
    "\n",
    "One possibility is to program the driver to loop through each country on the list. "
   ]
  },
  {
   "attachments": {},
   "cell_type": "markdown",
   "metadata": {},
   "source": [
    "## Preliminary: for loop through a range"
   ]
  },
  {
   "attachments": {},
   "cell_type": "markdown",
   "metadata": {},
   "source": [
    "In python, there are many ways to construct a loop. One of the most basic loop is a for loop through a range. \n",
    "\n",
    "A for loop through the range [1,10] will start at 1 but ends at 9, not including the high-end of the interval. "
   ]
  },
  {
   "cell_type": "code",
   "execution_count": null,
   "metadata": {},
   "outputs": [
    {
     "name": "stdout",
     "output_type": "stream",
     "text": [
      "0\n",
      "1\n",
      "2\n",
      "3\n",
      "4\n",
      "5\n",
      "6\n",
      "7\n",
      "8\n",
      "9\n"
     ]
    }
   ],
   "source": [
    "# loop through a range\n",
    "for i in range(0,10):\n",
    "    print(i)"
   ]
  },
  {
   "attachments": {},
   "cell_type": "markdown",
   "metadata": {},
   "source": [
    "Note that, unlike stata, the loop is not indicated by braces `{}`, but by a colon `:` and indentation with four spaces. All indented code following the `:` is part of the loop."
   ]
  },
  {
   "cell_type": "code",
   "execution_count": null,
   "metadata": {},
   "outputs": [
    {
     "name": "stdout",
     "output_type": "stream",
     "text": [
      "The current number is 0\n",
      "The next number will be 1\n",
      "------------------------\n",
      "The current number is 1\n",
      "The next number will be 2\n",
      "------------------------\n",
      "The current number is 2\n",
      "The next number will be 3\n",
      "------------------------\n",
      "The current number is 3\n",
      "The next number will be 4\n",
      "------------------------\n",
      "The current number is 4\n",
      "The next number will be 5\n",
      "------------------------\n",
      "The current number is 5\n",
      "The next number will be 6\n",
      "------------------------\n",
      "The current number is 6\n",
      "The next number will be 7\n",
      "------------------------\n",
      "The current number is 7\n",
      "The next number will be 8\n",
      "------------------------\n",
      "The current number is 8\n",
      "The next number will be 9\n",
      "------------------------\n",
      "The current number is 9\n",
      "The next number will be 10\n",
      "------------------------\n",
      "The final number is 9, not 10\n"
     ]
    }
   ],
   "source": [
    "# loop through a range; all indented parts will be executed in the loop; unindented part will be executed after the loop\n",
    "for i in range(0,10):\n",
    "    print(f\"The current number is {i}\")\n",
    "    print(f\"The next number will be {i+1}\")\n",
    "    \n",
    "    print(\"------------------------\")\n",
    "    \n",
    "print(f\"The final number is 9, not 10\")"
   ]
  },
  {
   "attachments": {},
   "cell_type": "markdown",
   "metadata": {},
   "source": [
    "## Back on the task"
   ]
  },
  {
   "attachments": {},
   "cell_type": "markdown",
   "metadata": {},
   "source": [
    "### Key elements of the loop\n",
    "\n",
    "What is the process to repeat? \n",
    "1. click on country $i$, for $i=1,2,3,...$\n",
    "2. extract the table from the new page\n",
    "3. add country name to table\n",
    "4. save the table to file (needs country name for file name)\n",
    "5. back to country list page\n",
    "6. click on country $i+1$"
   ]
  },
  {
   "attachments": {},
   "cell_type": "markdown",
   "metadata": {},
   "source": [
    "Recall that the driver returns a list of countries from the element search `driver.find_elements(By.XPATH, value=\"//div[@class='NestedList Policy active']/div\")`. We simply chose to click on the first country (second `div`).\n",
    "\n",
    "We can ask python to loop through each element in this list, starting from the second one."
   ]
  },
  {
   "cell_type": "code",
   "execution_count": 8,
   "metadata": {},
   "outputs": [],
   "source": [
    "# set url (as a text string)\n",
    "url = \"https://www.thedialogue.org/map_list/\"\n",
    "# load url\n",
    "driver.get(url)\n",
    "\n",
    "# wait for the page to load\n",
    "sleep(3)\n",
    "\n",
    "# make sure driver swtiches to the content iframe\n",
    "driver.switch_to.frame(driver.find_elements(By.XPATH, \"//iframe\")[0])\n",
    "\n",
    "# click to finance list\n",
    "driver.find_element(By.XPATH, value=\"//div[@class='link policy']\").click()"
   ]
  },
  {
   "cell_type": "code",
   "execution_count": 15,
   "metadata": {},
   "outputs": [
    {
     "data": {
      "text/plain": [
       "19"
      ]
     },
     "execution_count": 15,
     "metadata": {},
     "output_type": "execute_result"
    }
   ],
   "source": [
    "# put all elements in the country list into a list, only take the second one onwards\n",
    "country_element_list = driver.find_elements(By.XPATH, value=\"//div[@class='NestedList Policy active']/div\")[1:]\n",
    "# count number of countries in the list\n",
    "len(country_element_list)"
   ]
  },
  {
   "cell_type": "code",
   "execution_count": 18,
   "metadata": {},
   "outputs": [
    {
     "name": "stdout",
     "output_type": "stream",
     "text": [
      "1\n",
      "2\n",
      "3\n",
      "4\n",
      "5\n",
      "6\n",
      "7\n",
      "8\n",
      "9\n",
      "10\n",
      "11\n",
      "12\n",
      "13\n",
      "14\n",
      "15\n",
      "16\n",
      "17\n",
      "18\n",
      "19\n"
     ]
    }
   ],
   "source": [
    "# loop through all elements found previously in news_elements\n",
    "for i in range(1, len(country_element_list) + 1):\n",
    "    print(i)\n",
    "    ## navigate from list to table for each country\n",
    "    try: \n",
    "        # make sure driver swtiches to the content iframe\n",
    "        driver.switch_to.frame(driver.find_elements(By.XPATH, \"//iframe\")[0])\n",
    "    except:\n",
    "        pass\n",
    "    \n",
    "    # find all countries in the list, then click on the ith one\n",
    "    driver.find_elements(By.XPATH, value=\"//div[@class='NestedList Policy active']/div\")[i].click()\n",
    "    # pause for two seconds for the page to load\n",
    "    sleep(2)\n",
    "    \n",
    "    ## extract the table\n",
    "    # read (the first and only) table into a list\n",
    "    table_df = pd.read_html(driver.page_source)\n",
    "    # convert list to dataframe\n",
    "    table_df = pd.DataFrame(table_df[0])\n",
    "    \n",
    "    ## add country name and save file\n",
    "    # extract country name\n",
    "    country_name = driver.find_element(By.CSS_SELECTOR, value=\"div[class^='countryName']\").text\n",
    "    # add a column for the country name\n",
    "    table_df['Country'] = country_name\n",
    "    # save dataframe to csv\n",
    "    table_df.to_csv(f\"/Users/lhe/Downloads/finance_{country_name}.csv\", index = False)\n",
    "    \n",
    "    ## navigate to the list page\n",
    "    driver.back()\n",
    "    # pause for two seconds for the page to load\n",
    "    sleep(2)"
   ]
  },
  {
   "cell_type": "code",
   "execution_count": 19,
   "metadata": {},
   "outputs": [],
   "source": [
    "# set url (as a text string)\n",
    "url = \"https://www.thedialogue.org/map_list/\"\n",
    "# load url\n",
    "driver.get(url)\n",
    "\n",
    "# wait for the page to load\n",
    "sleep(3)\n",
    "\n",
    "# make sure driver swtiches to the content iframe\n",
    "driver.switch_to.frame(driver.find_elements(By.XPATH, \"//iframe\")[0])\n",
    "\n",
    "# click to finance list\n",
    "driver.find_element(By.XPATH, value=\"//div[@class='link commercial']\").click()"
   ]
  },
  {
   "cell_type": "code",
   "execution_count": 21,
   "metadata": {},
   "outputs": [
    {
     "data": {
      "text/plain": [
       "9"
      ]
     },
     "execution_count": 21,
     "metadata": {},
     "output_type": "execute_result"
    }
   ],
   "source": [
    "# put all elements in the country list into a list, only take the second one onwards\n",
    "country_element_list = driver.find_elements(By.XPATH, value=\"//div[@class='NestedList Commercial active']/div\")[1:]\n",
    "# count number of countries in the list\n",
    "len(country_element_list)"
   ]
  },
  {
   "cell_type": "code",
   "execution_count": 22,
   "metadata": {},
   "outputs": [
    {
     "name": "stdout",
     "output_type": "stream",
     "text": [
      "1\n",
      "2\n",
      "3\n",
      "4\n",
      "5\n",
      "6\n",
      "7\n",
      "8\n",
      "9\n"
     ]
    }
   ],
   "source": [
    "# loop through all elements found previously in news_elements\n",
    "for i in range(1, len(country_element_list) + 1):\n",
    "    print(i)\n",
    "    ## navigate from list to table for each country\n",
    "    try: \n",
    "        # make sure driver swtiches to the content iframe\n",
    "        driver.switch_to.frame(driver.find_elements(By.XPATH, \"//iframe\")[0])\n",
    "    except:\n",
    "        pass\n",
    "    \n",
    "    # find all countries in the list, then click on the ith one\n",
    "    driver.find_elements(By.XPATH, value=\"//div[@class='NestedList Commercial active']/div\")[i].click()\n",
    "    # pause for two seconds for the page to load\n",
    "    sleep(2)\n",
    "    \n",
    "    ## extract the table\n",
    "    # read (the first and only) table into a list\n",
    "    table_df = pd.read_html(driver.page_source)\n",
    "    # convert list to dataframe\n",
    "    table_df = pd.DataFrame(table_df[0])\n",
    "    \n",
    "    ## add country name and save file\n",
    "    # extract country name\n",
    "    country_name = driver.find_element(By.CSS_SELECTOR, value=\"div[class^='countryName']\").text\n",
    "    # add a column for the country name\n",
    "    table_df['Country'] = country_name\n",
    "    # save dataframe to csv\n",
    "    table_df.to_csv(f\"/Users/lhe/Downloads/commercial_{country_name}.csv\", index = False)\n",
    "    \n",
    "    ## navigate to the list page\n",
    "    driver.back()\n",
    "    # pause for two seconds for the page to load\n",
    "    sleep(2)"
   ]
  },
  {
   "cell_type": "code",
   "execution_count": null,
   "metadata": {},
   "outputs": [],
   "source": []
  }
 ],
 "metadata": {
  "kernelspec": {
   "display_name": "base",
   "language": "python",
   "name": "python3"
  },
  "language_info": {
   "codemirror_mode": {
    "name": "ipython",
    "version": 3
   },
   "file_extension": ".py",
   "mimetype": "text/x-python",
   "name": "python",
   "nbconvert_exporter": "python",
   "pygments_lexer": "ipython3",
   "version": "3.9.12"
  },
  "vscode": {
   "interpreter": {
    "hash": "a632428195b7a8ef688355398e4ea1ca2da9a23598126ed273e31a5d8c7adcc9"
   }
  }
 },
 "nbformat": 4,
 "nbformat_minor": 2
}

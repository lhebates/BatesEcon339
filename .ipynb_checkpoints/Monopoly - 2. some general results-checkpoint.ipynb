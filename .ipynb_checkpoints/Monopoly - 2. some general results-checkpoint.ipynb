{
 "cells": [
  {
   "cell_type": "markdown",
   "metadata": {},
   "source": [
    "Import necessary packages."
   ]
  },
  {
   "cell_type": "code",
   "execution_count": 19,
   "metadata": {},
   "outputs": [],
   "source": [
    "# import all functions from python labrary: sympy\n",
    "from sympy import *\n",
    "# import python library: matplotlib (for nice plots)\n",
    "import matplotlib\n",
    "# set sympy output to print pretty math expressions\n",
    "init_printing()"
   ]
  },
  {
   "cell_type": "markdown",
   "metadata": {},
   "source": [
    "Declare variables we are going to use as 'symbols'. We will add more along the way, if necessary."
   ]
  },
  {
   "cell_type": "code",
   "execution_count": 25,
   "metadata": {},
   "outputs": [],
   "source": [
    "### NOTE: it is important here to further declare these variables to be nonzero and positive (otherwise sympy cannot find solution for the FOCs)\n",
    "Q, c, a, b, pi, s = symbols('Q c a b \\pi s', nonzero=True, positive=True)"
   ]
  },
  {
   "cell_type": "markdown",
   "metadata": {},
   "source": [
    "# 1. standard monopoly profit-maximization problem: monopoly pricing formula"
   ]
  },
  {
   "cell_type": "markdown",
   "metadata": {},
   "source": [
    "## Setup: firm and general demand"
   ]
  },
  {
   "cell_type": "markdown",
   "metadata": {},
   "source": [
    "Assume one monopolistic firm sells a product in a given market. We assume the firm has general cost function $C(Q)$.\n",
    "\n",
    "The market demand function is $Q(p)$, which is decreasing in $p$. \n",
    "\n",
    "We assume the firm's profit is positive. "
   ]
  },
  {
   "cell_type": "markdown",
   "metadata": {},
   "source": [
    "## The firm's profit-maximization problem"
   ]
  },
  {
   "cell_type": "markdown",
   "metadata": {},
   "source": [
    "Under these modeling assumptions, each firm's profit is\n",
    "\\begin{align}\n",
    "    \\pi(p) &= p\\cdot Q(p) - C\\big(Q(p)\\big)\n",
    "\\end{align}"
   ]
  },
  {
   "cell_type": "markdown",
   "metadata": {},
   "source": [
    "The firm's profit-maximization problem, choosing $p$ is\n",
    "\\begin{align}\n",
    "    \\max_p \\pi(p) & = p\\cdot Q(p) - C\\big(Q(p)\\big)\n",
    "\\end{align}"
   ]
  },
  {
   "cell_type": "markdown",
   "metadata": {},
   "source": [
    "The FOC is\n",
    "\\begin{align}\n",
    "Q(p) + p\\cdot Q'(p) - Q'(p) C'\\big(Q(p)\\big) &= 0 \\\\\n",
    "p\\cdot Q'(p) - Q'(p) C'\\big(Q(p)\\big) &= - Q(p) \\\\\n",
    "Q'(p) \\big( p - C'\\big(Q(p)\\big) \\big) &= - Q(p) \\\\\n",
    " p - C'\\big(Q(p)\\big) &= - \\frac{Q(p)}{Q'(p)}\n",
    "\\end{align}"
   ]
  },
  {
   "cell_type": "markdown",
   "metadata": {},
   "source": [
    "### Result 1: monopoly pricing formula / inverse elasticity rule\n",
    "The profit-maximizing price satisfies\n",
    "$$ p - C'(Q) = \\frac{Q}{- \\frac{dQ}{dp}}, $$\n",
    "or equivalently, \n",
    "$$ \\frac{p - C'(Q)}{p} = - \\frac{1}{\\epsilon}, $$\n",
    "\\begin{align}\n",
    "\n",
    "\\end{align}\n",
    "where $\\epsilon$ is the price-elasticity of demand."
   ]
  },
  {
   "cell_type": "markdown",
   "metadata": {},
   "source": [
    "#### Interpretation\n",
    "* According to this formula, does the markup increase or decrease in price elasticity of demand? In other words, does the monopolist charge a higher markup when consumers can switch away more easily?"
   ]
  },
  {
   "cell_type": "markdown",
   "metadata": {},
   "source": [
    "**Proof**\n",
    "\n",
    "The FOC of the firm's problem is\n",
    "\\begin{align}\n",
    "    && \\frac{\\partial \\pi}{\\partial p} = Q + p \\frac{d Q}{d p} - \\underbrace{\\frac{d C(Q)}{d Q}}_{MC} \\frac{d Q}{d p} &= 0 \\\\\n",
    "    \\Rightarrow && \\big( p - C'(Q) \\big) \\frac{d Q}{d p} &= -Q \\\\\n",
    "    \\Rightarrow && p - C'(Q) &= -\\frac{Q}{\\frac{d Q}{d p}}\n",
    "\\end{align}\n",
    "\n",
    "We can further rewrite this expression by multiplying $p$ on both sides of the equation\n",
    "\\begin{align}\n",
    "    && p - C'(Q) &= -\\frac{Q}{\\frac{d Q}{d p}} \\\\\n",
    "    \\Rightarrow && p - C'(Q) &= -\\frac{Q/Q}{\\frac{d Q}{d p}\\frac{1}{Q}} \\\\\n",
    "    \\Rightarrow && \\frac{p - C'(Q)}{p} &= -\\frac{1}{\\frac{d Q}{d p}\\frac{p}{Q}} \\\\\n",
    "    \\Rightarrow && \\frac{p - C'(Q)}{p} &= -\\frac{1}{\\epsilon}\n",
    "\\end{align}\n"
   ]
  },
  {
   "cell_type": "markdown",
   "metadata": {},
   "source": [
    "# 2. monopoly profit-maximization problem with quality: Dorfman-Steiner (1954) condition"
   ]
  },
  {
   "cell_type": "markdown",
   "metadata": {},
   "source": [
    "## Firm and general demand with quality"
   ]
  },
  {
   "cell_type": "markdown",
   "metadata": {},
   "source": [
    "Assume one monopolistic firm sells a product in a given market. We assume the firm has general cost function $C(Q)$.\n",
    "\n",
    "<span style=\"color:#CC3300\"> In addition, we assume that \n",
    "* the firm can choose an invest in quality, denoted by $s$, at cost $s$\n",
    "* the cost of the investment is in the form of fixed cost, i.e., the investment does not affect the variable cost\n",
    "* higher quality increases demand\n",
    "</span>\n",
    "\n",
    "The market demand function is $Q(p,s)$, which is decreasing in $p$ and increasing in $s$.\n",
    "\n",
    "We assume the firm's profit is positive. "
   ]
  },
  {
   "cell_type": "markdown",
   "metadata": {},
   "source": [
    "## The firm's profit-maximization problem"
   ]
  },
  {
   "cell_type": "markdown",
   "metadata": {},
   "source": [
    "Under these modeling assumptions, each firm's profit is\n",
    "\\begin{align}\n",
    "    \\pi(p,s) &= p\\cdot Q(p,s) - C\\big(Q(p,s)\\big) - s\n",
    "\\end{align}"
   ]
  },
  {
   "cell_type": "markdown",
   "metadata": {},
   "source": [
    "The firm's profit-maximization problem, choosing $p$ and $s$ is\n",
    "\\begin{align}\n",
    "    \\max_{p,s} \\pi(p,s) & = p\\cdot Q(p,s) - C\\big(Q(p,s)\\big) - s\n",
    "\\end{align}"
   ]
  },
  {
   "cell_type": "markdown",
   "metadata": {},
   "source": [
    "### Result 2: Dorfman-Steiner condition\n",
    "A profit-maximizing monopolist would choose quality $s$ such that\n",
    "$$\\frac{s}{pQ} = \\frac{\\epsilon_s}{-\\epsilon},$$\n",
    "where $\\epsilon_s$ is the quality elasticity of demand."
   ]
  },
  {
   "cell_type": "markdown",
   "metadata": {},
   "source": [
    "#### Interpretation\n",
    "* According to this formula, does the fraction of revenue going towards quality investment increase or decrease when\n",
    "    * demand is more price elastic?\n",
    "    * demand is more sensitive to quality?"
   ]
  },
  {
   "cell_type": "markdown",
   "metadata": {},
   "source": [
    "**Proof**\n",
    "\n",
    "The FOC's of the firm's problem are\n",
    "\\begin{align}\n",
    "    \\frac{\\partial \\pi}{\\partial p} = Q + p \\frac{\\partial Q}{\\partial p} - C'(Q) \\frac{\\partial Q}{\\partial p} &=0  \\tag{1} \\\\\n",
    "    \\frac{\\partial \\pi}{\\partial s} = p \\frac{\\partial Q}{\\partial s} - C'(Q) \\frac{\\partial Q}{\\partial s} - 1 &=0  \\tag{2} \n",
    "\\end{align}\n",
    "\n",
    "Recall definitions of elasticity\n",
    "$\\epsilon = \\frac{\\partial Q}{\\partial p}\\frac{p}{Q}$ and $\\epsilon_s = \\frac{\\partial Q}{\\partial s}\\frac{s}{Q}.\n",
    "\n",
    "We can further rewrite the FOCs into the form of elasticities. \n",
    "\n",
    "As in result 1 above, FOC (1) leads to\n",
    "\\begin{align}\n",
    "    \\frac{p - C'(Q)}{p} &= -\\frac{1}{\\epsilon}  \\tag{3}\n",
    "\\end{align}\n",
    "\n",
    "Similarly, FOC (2) can be rewritten as\n",
    "\\begin{align}\n",
    "    && p \\frac{\\partial Q}{\\partial s} - C'(Q) \\frac{\\partial Q}{\\partial s} - 1 &=0 \\\\\n",
    "    \\Rightarrow && p - C'(Q) &= \\frac{1}{\\frac{\\partial Q}{\\partial s}} \\\\\n",
    "    \\Rightarrow && \\frac{p - C'(Q)}{p} &= \\frac{\\frac{s}{Q}}{p}\\frac{1}{\\frac{\\partial Q}{\\partial s}\\frac{s}{Q}} \\\\\n",
    "    \\Rightarrow && \\frac{p - C'(Q)}{p} &= \\frac{\\frac{s}{Q}}{p}\\frac{1}{\\epsilon_s}  \\tag{4}\n",
    "\\end{align}\n",
    "\n",
    "Note that the right-hand sides of (3) and (4) must be equal, thus\n",
    "\\begin{align}\n",
    "    && \\frac{\\frac{s}{Q}}{p}\\frac{1}{\\epsilon_s} &= -\\frac{1}{\\epsilon} \\\\\n",
    "    \\Rightarrow && \\frac{s}{pQ} &= - \\frac{\\epsilon_s}{\\epsilon}\n",
    "\\end{align}\n"
   ]
  },
  {
   "cell_type": "code",
   "execution_count": null,
   "metadata": {},
   "outputs": [],
   "source": []
  }
 ],
 "metadata": {
  "kernelspec": {
   "display_name": "Python 3",
   "language": "python",
   "name": "python3"
  },
  "language_info": {
   "codemirror_mode": {
    "name": "ipython",
    "version": 3
   },
   "file_extension": ".py",
   "mimetype": "text/x-python",
   "name": "python",
   "nbconvert_exporter": "python",
   "pygments_lexer": "ipython3",
   "version": "3.7.4"
  }
 },
 "nbformat": 4,
 "nbformat_minor": 2
}

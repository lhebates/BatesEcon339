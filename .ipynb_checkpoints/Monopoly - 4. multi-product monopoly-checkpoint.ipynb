{
 "cells": [
  {
   "cell_type": "markdown",
   "metadata": {},
   "source": [
    "Import necessary packages."
   ]
  },
  {
   "cell_type": "code",
   "execution_count": 1,
   "metadata": {},
   "outputs": [],
   "source": [
    "# import all functions from python labrary: sympy\n",
    "from sympy import *\n",
    "# import python library: matplotlib (for nice plots)\n",
    "import matplotlib\n",
    "# set sympy output to print pretty math expressions\n",
    "init_printing()"
   ]
  },
  {
   "cell_type": "markdown",
   "metadata": {},
   "source": [
    "Declare variables we are going to use as 'symbols'. We will add more along the way, if necessary."
   ]
  },
  {
   "cell_type": "code",
   "execution_count": 2,
   "metadata": {},
   "outputs": [],
   "source": [
    "### NOTE: it is important here to further declare these variables to be nonzero (otherwise sympy may not be able to find solution for the FOCs)\n",
    "p1, p2, Q1, Q2, c1, c2, a1, b1, a2, b2, alpha, pi = symbols('p_1 p_2 Q_1 Q_2 c_1 c_2 a_1 b_1 a_2 b_2 alpha \\pi', nonzero=True)"
   ]
  },
  {
   "cell_type": "markdown",
   "metadata": {},
   "source": [
    "# Benchmark: single product monopoly"
   ]
  },
  {
   "cell_type": "markdown",
   "metadata": {},
   "source": [
    "Assume one monopolistic firm sells a product in a given market. We assume the firm has a constant marginal cost, $c$.\n",
    "\n",
    "The market demand for a product is linear, such that the inverse demand function takes the form of\n",
    "\\begin{align}\n",
    "    p = a - b Q\n",
    "\\end{align}\n",
    "\n",
    "We assume $a > c$, so that consumer's willingness to pay exceeds the firm's cost to produce."
   ]
  },
  {
   "cell_type": "markdown",
   "metadata": {},
   "source": [
    "## The firm's profit-maximization problem (re-write in terms of p)"
   ]
  },
  {
   "cell_type": "markdown",
   "metadata": {},
   "source": [
    "Instead, from equation (1), we can plug in the demand function (not inverse demand) and rewrite $\\pi$ in terms of $p$. Specifically, the firm's demand function is \n",
    "$$ Q = \\frac{a}{b} - \\frac{p}{b}.$$\n",
    "Plugging into (1), and we have\n",
    "\\begin{align}\n",
    "    \\pi(p) & = (p-c)\\big(\\frac{a}{b} - \\frac{p}{b}\\big)\n",
    "\\end{align}"
   ]
  },
  {
   "cell_type": "markdown",
   "metadata": {},
   "source": [
    "## Monopolist chooses p to maximize profit"
   ]
  },
  {
   "cell_type": "markdown",
   "metadata": {},
   "source": [
    "The firm maximizes\n",
    "\\begin{align}\n",
    "    \\max_p \\pi(p) & = (p-c)\\big(\\frac{a}{b} - \\frac{p}{b}\\big) \n",
    "\\end{align}"
   ]
  },
  {
   "cell_type": "markdown",
   "metadata": {},
   "source": [
    "which leads to FOC\n",
    "\\begin{align}\n",
    "    \\frac{\\partial \\pi(p)}{\\partial p} & = \\big(\\frac{a}{b} - \\frac{p}{b}\\big) - \\frac{p-c}{b} \\\\\n",
    "        &= \\frac{a}{b} - \\frac{2p}{b} + \\frac{c}{b} =0 \\quad\\Rightarrow\\quad p^* = \\frac{a+c}{2} \\tag{1}\n",
    "\\end{align}\n",
    "\n",
    "the same profit-maximizing price as the case when the monopolist chooses quantity."
   ]
  },
  {
   "cell_type": "markdown",
   "metadata": {},
   "source": [
    "### Alternative solution:"
   ]
  },
  {
   "cell_type": "markdown",
   "metadata": {},
   "source": [
    "The firm's problem is \n",
    "\\begin{align}\n",
    "    \\pi(p) & = \\big(p-c\\big) Q(p)\n",
    "\\end{align}\n",
    "with $ Q(p) = \\frac{a}{b} - \\frac{p}{b}$."
   ]
  },
  {
   "cell_type": "markdown",
   "metadata": {},
   "source": [
    "This implies the FOC (use chain rule, no need to plug in the demand function)\n",
    "\n",
    "\\begin{align}\n",
    "    \\frac{\\partial \\pi(p)}{\\partial p} = \\underbrace{\\frac{\\partial \\big(p-c\\big)}{\\partial p}}_{=1} Q(p) + \\big(p-c\\big) \\underbrace{\\frac{\\partial Q(p)}{\\partial p}}_{=-\\frac{1}{b}} =0\n",
    "\\end{align}\n",
    "\n",
    "which implies\n",
    "\\begin{align}\n",
    "    Q(p) - \\frac{1}{b}(p-c) = 0,\n",
    "\\end{align}\n",
    "\n",
    "From here, you can substitute in $Q(p)$ and solve for the optimal $p^*$."
   ]
  },
  {
   "cell_type": "markdown",
   "metadata": {},
   "source": [
    "# Setup: two-product monopoly, related demand"
   ]
  },
  {
   "cell_type": "markdown",
   "metadata": {},
   "source": [
    "Assume one monopolistic firm sells *two* products in a given market, indexed by $i=1,2$. \n",
    "\n",
    "We assume marginal costs of the goods are constant and denoted by $c_1, c_2$.\n",
    "\n",
    "The market (inverse) demand for a product is linear, such that the inverse demand function takes the form of\n",
    "\\begin{align}\n",
    "    p_1 &= a_1 - b_1 Q_1 - \\alpha Q_2 \\\\\n",
    "    p_2 &= a_2 - b_2 Q_2 - \\alpha Q_1 \n",
    "\\end{align}\n",
    "\n",
    "We assume $a_i > c_i$ for $i=1,2$, so that consumer's willingness to pay exceeds the firm's cost to produce."
   ]
  },
  {
   "cell_type": "markdown",
   "metadata": {},
   "source": [
    "**Q**: Interpret the relationship between the two goods when:\n",
    "* $\\alpha = 0$ \n",
    "* $\\alpha > 0$ \n",
    "* $\\alpha < 0$ \n"
   ]
  },
  {
   "cell_type": "markdown",
   "metadata": {},
   "source": [
    "## The firm's profit-maximization problem"
   ]
  },
  {
   "cell_type": "markdown",
   "metadata": {},
   "source": [
    "Under these modeling assumptions, the firm maximizes its joint profit from two goods\n",
    "\\begin{align}\n",
    "    \\pi &= p_1\\cdot Q_1 - c_1 \\cdot Q_1 + p_2\\cdot Q_2 - c_2 \\cdot Q_2 \\\\\n",
    "            &= (p_1-c_1)Q_1 + (p_2-c_2)Q_2 \\tag{2}\n",
    "\\end{align}"
   ]
  },
  {
   "cell_type": "markdown",
   "metadata": {},
   "source": [
    "Let the firm choose its prices to maximize the profit\n",
    "\\begin{align}\n",
    "    \\max_{p_1, p_2} \\pi(p_1, p_2) & = \\big(p_1-c_1\\big)Q_1(p_1, p_2) + \\big(p_2-c_2\\big)Q_2(p_1, p_2),\n",
    "\\end{align}\n",
    "\n",
    "note that $Q_1(p_1, p_2)$ and $Q_22(p_1, p_2)$ are demand functions, i.e., functions of the prices."
   ]
  },
  {
   "cell_type": "markdown",
   "metadata": {},
   "source": [
    "# Analysis"
   ]
  },
  {
   "cell_type": "markdown",
   "metadata": {},
   "source": [
    "## Monopolist chooses Q to maximize profit"
   ]
  },
  {
   "cell_type": "markdown",
   "metadata": {},
   "source": [
    "The firm's problem implies the FOCs for $p_1$ (use chain rule, no need to plug in the demand functions)\n",
    "\n",
    "\\begin{align}\n",
    "    \\frac{\\partial \\pi(p_1, p_2)}{\\partial p_1} = \\frac{\\partial \\big(p_1-c_1\\big)}{\\partial p_1} Q_1(p_1, p_2) + \\big(p_1-c_1\\big) \\frac{\\partial Q_1(p_1, p_2)}{\\partial p_1} + \\frac{\\partial \\big(p_2-c_2\\big)}{\\partial p_1} Q_2(p_1, p_2) + \\big(p_2-c_2\\big) \\frac{\\partial Q_2(p_1, p_2)}{\\partial p_1} \n",
    "\\end{align}\n",
    "\n",
    "which implies\n",
    "\\begin{align}\n",
    "    Q_1(p_1, p_2) + \\big(p_1-c_1\\big) Q_1^1 + \\big(p_2-c_2\\big) Q_2^1\n",
    "\\end{align}"
   ]
  },
  {
   "cell_type": "markdown",
   "metadata": {},
   "source": [
    "Similarly, for $p_2$ \n",
    "\\begin{align}\n",
    "    \\frac{\\partial \\pi(p_1, p_2)}{\\partial p_2} = \\frac{\\partial \\big(p_1-c_1\\big)}{\\partial p_2} Q_1(p_1, p_2) + \\big(p_1-c_1\\big) \\frac{\\partial Q_1(p_1, p_2)}{\\partial p_2} + \\frac{\\partial \\big(p_2-c_2\\big)}{\\partial p_2} Q_2(p_1, p_2) + \\big(p_2-c_2\\big) \\frac{\\partial Q_2(p_1, p_2)}{\\partial p_2}\n",
    "\\end{align}\n",
    "Plugging back into the inverse demand funciton, the monopolist would price at\n",
    "\\begin{align}\n",
    "    p^* &= a - bQ^* \\\\\n",
    "        &= a - \\frac{a-c}{2} \\\\\n",
    "        &= \\frac{a+c}{2}\n",
    "\\end{align}"
   ]
  },
  {
   "cell_type": "markdown",
   "metadata": {},
   "source": [
    "From here, we can try to find the FOC w.r.t. Q for the firm. But we will explore an alternative development before going this route."
   ]
  },
  {
   "cell_type": "code",
   "execution_count": 3,
   "metadata": {
    "scrolled": true
   },
   "outputs": [
    {
     "data": {
      "image/png": "[encoded data removed]",
      "text/latex": [
       "$\\displaystyle \\left\\{ Q_{1} : \\frac{\\alpha \\left(a_{2} - p_{2}\\right) - b_{2} \\left(a_{1} - p_{1}\\right)}{\\alpha^{2} - b_{1} b_{2}}, \\  Q_{2} : \\frac{\\alpha \\left(a_{1} - p_{1}\\right) - b_{1} \\left(a_{2} - p_{2}\\right)}{\\alpha^{2} - b_{1} b_{2}}\\right\\}$"
      ],
      "text/plain": [
       "⎧    α⋅(a₂ - p₂) - b₂⋅(a₁ - p₁)      α⋅(a₁ - p₁) - b₁⋅(a₂ - p₂)⎫\n",
       "⎪Q₁: ──────────────────────────, Q₂: ──────────────────────────⎪\n",
       "⎨             2                               2                ⎬\n",
       "⎪            α  - b₁⋅b₂                      α  - b₁⋅b₂        ⎪\n",
       "⎩                                                              ⎭"
      ]
     },
     "execution_count": 3,
     "metadata": {},
     "output_type": "execute_result"
    }
   ],
   "source": [
    "demand_sol = solve([Eq(p1, a1-b1*Q1 - alpha*Q2), Eq(p2, a2-b2*Q2- alpha*Q1)], Q1, Q2)\n",
    "demand_sol"
   ]
  },
  {
   "cell_type": "code",
   "execution_count": 4,
   "metadata": {},
   "outputs": [],
   "source": [
    "Q1_demand = demand_sol[Q1]\n",
    "Q2_demand = demand_sol[Q2]"
   ]
  },
  {
   "cell_type": "code",
   "execution_count": 8,
   "metadata": {},
   "outputs": [
    {
     "data": {
      "image/png": "[encoded data removed]",
      "text/latex": [
       "$\\displaystyle \\left( \\frac{b_{2}}{\\alpha^{2} - b_{1} b_{2}}, \\  - \\frac{\\alpha}{\\alpha^{2} - b_{1} b_{2}}\\right)$"
      ],
      "text/plain": [
       "⎛    b₂         -α     ⎞\n",
       "⎜──────────, ──────────⎟\n",
       "⎜ 2           2        ⎟\n",
       "⎝α  - b₁⋅b₂  α  - b₁⋅b₂⎠"
      ]
     },
     "execution_count": 8,
     "metadata": {},
     "output_type": "execute_result"
    }
   ],
   "source": [
    "Q1_demand.diff(p1), Q2_demand.diff(p1)"
   ]
  },
  {
   "cell_type": "markdown",
   "metadata": {},
   "source": [
    "# Challenge"
   ]
  },
  {
   "cell_type": "markdown",
   "metadata": {},
   "source": [
    "**Q1**: solve two cases of the monopoly profit-maximization problem using sympy\n",
    "* if the firm chooses output level to maximize profit\n",
    "* if the firm chooses price level to maximize profit\n",
    "* does it matter what the firm choose? why or why not?"
   ]
  },
  {
   "cell_type": "code",
   "execution_count": null,
   "metadata": {},
   "outputs": [],
   "source": []
  },
  {
   "cell_type": "markdown",
   "metadata": {},
   "source": [
    "**Q2**: (Drew Fallon challenge) Why isn't the firm's profit maximized when $p - AC$ is maximized?"
   ]
  },
  {
   "cell_type": "markdown",
   "metadata": {},
   "source": [
    "\\begin{align}\n",
    "    \\max_{Q}\\pi &= pQ - c(Q) \\\\\n",
    "                &= pQ - Q* \\underbrace{\\frac{c(Q)}{Q}}_{AC(Q)} \\\\\n",
    "                &= Q \\big( p - AC(Q) \\big)\n",
    "\\end{align}\n",
    "Let's take the FOC w.r.t. Q\n",
    "\\begin{align}\n",
    "    \\frac{\\partial \\pi}{\\partial Q} &= (p-AC) + Q \\frac{\\partial \\big( p-AC(Q) \\big)}{\\partial Q}\n",
    "\\end{align}\n",
    "If the firm chooses $Q$ where $p-AC(Q)$ is maximized, then we would have \n",
    "$$\\frac{\\partial \\big( p-AC(Q) \\big)}{\\partial Q} = 0$$ \n",
    "which means $ \\frac{\\partial \\pi}{\\partial Q} > 0 $ as long as $p - AC > 0$, in other words, the firm is not maximizing profit at such quantity if the profit is positive."
   ]
  },
  {
   "cell_type": "code",
   "execution_count": null,
   "metadata": {},
   "outputs": [],
   "source": []
  }
 ],
 "metadata": {
  "kernelspec": {
   "display_name": "Python 3",
   "language": "python",
   "name": "python3"
  },
  "language_info": {
   "codemirror_mode": {
    "name": "ipython",
    "version": 3
   },
   "file_extension": ".py",
   "mimetype": "text/x-python",
   "name": "python",
   "nbconvert_exporter": "python",
   "pygments_lexer": "ipython3",
   "version": "3.7.4"
  }
 },
 "nbformat": 4,
 "nbformat_minor": 2
}

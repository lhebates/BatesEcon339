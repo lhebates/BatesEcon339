{
 "cells": [
  {
   "cell_type": "markdown",
   "metadata": {},
   "source": [
    "This notebook illustrates how to use python to assist data collection for academic research. \n",
    "\n",
    "The collected data should only serve academic research purposes. \n",
    "\n",
    "One should never post the collected data in publicly accessible websites without explicit consent from the original website. \n",
    "\n",
    "One should never profit financially from the collected data. "
   ]
  },
  {
   "cell_type": "markdown",
   "metadata": {},
   "source": [
    "# Install required packages (only need to run the first time)"
   ]
  },
  {
   "cell_type": "code",
   "execution_count": null,
   "metadata": {},
   "outputs": [],
   "source": [
    "# First: install Anaconda python: https://www.anaconda.com/products/individual\n",
    "\n",
    "# install necessary packages\n",
    "## package: selenium for navigating webpages using google chrome\n",
    "# Note: also need to download chromedriver to hard drive\n",
    "!pip install selenium\n",
    "## package: time for pausing the script execution\n",
    "!pip install time\n",
    "## package: BeautifulSoup for processing web scripts\n",
    "!pip install BeautifulSoup\n",
    "## package: pandas for process data\n",
    "!pip install pandas\n",
    "## package: os for accessing operating system information\n",
    "!pip install os"
   ]
  },
  {
   "cell_type": "markdown",
   "metadata": {},
   "source": [
    "# Import required packages"
   ]
  },
  {
   "cell_type": "code",
   "execution_count": null,
   "metadata": {},
   "outputs": [],
   "source": [
    "from selenium import webdriver\n",
    "\n",
    "from time import sleep\n",
    "\n",
    "from bs4 import BeautifulSoup as soup\n",
    "\n",
    "import pandas as pd\n",
    "\n",
    "import os.path"
   ]
  },
  {
   "cell_type": "markdown",
   "metadata": {},
   "source": [
    "# Python selenium with chromedriver"
   ]
  },
  {
   "cell_type": "markdown",
   "metadata": {},
   "source": [
    "We will use python selenium to control a chromedriver application to navigate websites.\n",
    "\n",
    "The chromedriver is an open source software that needs to be downloaded to the hard drive. Link: https://chromedriver.chromium.org/downloads\n",
    "\n",
    "Note that:\n",
    "1. the user needs administer access in the computer\n",
    "2. the version of the chromedriver needs to be consistent with the google Chrome browser installed in the computer system; the chromedriver may need to be replaced after updates of the Chrome browser"
   ]
  },
  {
   "cell_type": "markdown",
   "metadata": {},
   "source": [
    "After downloading the chromedriver to local disk, change the path and run:"
   ]
  },
  {
   "cell_type": "code",
   "execution_count": null,
   "metadata": {},
   "outputs": [],
   "source": [
    "# open brower window (on windows)\n",
    "if os.name == 'nt':\n",
    "    driver = webdriver.Chrome(\"/Users/lhe/Dropbox/Utilities/chromedriver.exe\")\n",
    "# open brower window (on mac)\n",
    "else:\n",
    "    driver = webdriver.Chrome(\"/Users/lhe/Dropbox/Utilities/chromedriver\")"
   ]
  },
  {
   "cell_type": "markdown",
   "metadata": {},
   "source": [
    "set url and load url"
   ]
  },
  {
   "cell_type": "code",
   "execution_count": null,
   "metadata": {},
   "outputs": [],
   "source": [
    "# set url (as a text string)\n",
    "url = \"https://www.aeaweb.org/research?path=research&page=1&per-page=10#list\"\n",
    "# load url\n",
    "driver.get(url)\n",
    "# notes: \n",
    "## driver is an object, the webdriver controlled by selenium\n",
    "## get is a method (think of it as a function) defined in the selenium package"
   ]
  },
  {
   "cell_type": "markdown",
   "metadata": {},
   "source": [
    "# HTML tags and scripts"
   ]
  },
  {
   "cell_type": "markdown",
   "metadata": {},
   "source": [
    "We need to understand some basic structures of the HTML language to instruct the python packages to perform any task."
   ]
  },
  {
   "cell_type": "code",
   "execution_count": null,
   "metadata": {},
   "outputs": [],
   "source": [
    "# set url\n",
    "url = \"https://en.wikipedia.org/wiki/HTML\"\n",
    "# load url\n",
    "driver.get(url)"
   ]
  },
  {
   "cell_type": "markdown",
   "metadata": {},
   "source": [
    "### HTML content is structured around elements"
   ]
  },
  {
   "cell_type": "code",
   "execution_count": null,
   "metadata": {},
   "outputs": [],
   "source": [
    "# set url\n",
    "url = \"https://en.wikipedia.org/wiki/HTML_element\"\n",
    "# load url\n",
    "driver.get(url)"
   ]
  },
  {
   "cell_type": "markdown",
   "metadata": {},
   "source": [
    "It is essential to understand the following concepts:\n",
    "* elements\n",
    "* tags\n",
    "* attributes\n",
    "* content"
   ]
  },
  {
   "cell_type": "code",
   "execution_count": null,
   "metadata": {},
   "outputs": [],
   "source": [
    "# set url\n",
    "url = \"https://en.wikipedia.org/wiki/HTML_element#Syntax\"\n",
    "# load url\n",
    "driver.get(url)"
   ]
  },
  {
   "cell_type": "markdown",
   "metadata": {},
   "source": [
    "Think of **elements** as containers on a web page.\n",
    "\n",
    "Right click in browser, and choose: \"Inspect\"."
   ]
  },
  {
   "cell_type": "markdown",
   "metadata": {},
   "source": [
    "Most **elements** are marked by **tags** at the beginning and the end of an element. "
   ]
  },
  {
   "cell_type": "markdown",
   "metadata": {},
   "source": [
    "Each tag is marked by angle brackets, such as `<a>`"
   ]
  },
  {
   "cell_type": "markdown",
   "metadata": {},
   "source": [
    "And **attributes** are special words inside the opening tag to control the element's behavior. \n",
    "\n",
    "Such as `<a href=\"/wiki/HTML\" title=\"HTML\">HTML</a>`"
   ]
  },
  {
   "cell_type": "markdown",
   "metadata": {},
   "source": [
    "The **contents** are usually the visible information on the web page, such as texts or images."
   ]
  },
  {
   "cell_type": "markdown",
   "metadata": {},
   "source": [
    "# Navigate and retrieve information using Selenium"
   ]
  },
  {
   "cell_type": "markdown",
   "metadata": {},
   "source": [
    "Now we return to the AEA website:"
   ]
  },
  {
   "cell_type": "code",
   "execution_count": null,
   "metadata": {},
   "outputs": [],
   "source": [
    "# set url (as a text string)\n",
    "url = \"https://www.aeaweb.org/research?path=research&page=1&per-page=10#list\"\n",
    "# load url\n",
    "driver.get(url)"
   ]
  },
  {
   "cell_type": "markdown",
   "metadata": {},
   "source": [
    "## Task 1: click the \"Journals\" link on top of the page"
   ]
  },
  {
   "cell_type": "markdown",
   "metadata": {},
   "source": [
    "The main challenge is that we need to \"tell\" selenium which element contains the link we want to click.\n",
    "\n",
    "For this, we need to pass on some information about the element of choice. \n",
    "\n",
    "To find out features that identifies an element, we right click *on* the element in the browser, and select \"Inspect\" to see the HTML source code of the element of choice. "
   ]
  },
  {
   "cell_type": "markdown",
   "metadata": {},
   "source": [
    "To identify the element of choice, we need some additional \"selector language\" to pin down the element in the massive HTML source code. \n",
    "\n",
    "This takes a lot of trial and error."
   ]
  },
  {
   "cell_type": "markdown",
   "metadata": {},
   "source": [
    "### Find element by text (using Xpath)"
   ]
  },
  {
   "cell_type": "markdown",
   "metadata": {},
   "source": [
    "**Xpath selector** is a script language to select elements in HTML scripts. \n",
    "\n",
    "To find all the `<a>` elements in a web page with the exact text of `Journals`, the Xpath would be:\n",
    "\n",
    "`//a[text()='Journals']`\n",
    "\n",
    "One good tutorial is: https://www.w3schools.com/xml/xpath_intro.asp"
   ]
  },
  {
   "cell_type": "markdown",
   "metadata": {},
   "source": [
    "Try your selector by:\n",
    "1. click in the source code pan in Chrome\n",
    "2. hit \"control + F\" (windows) or \"cmd + F\" (mac) to search\n",
    "3. type/paste in your selector, see \n",
    "    * if chrome can find it, and \n",
    "    * how many elements it found\n",
    "4. if you found the desired elements, you are good to proceed"
   ]
  },
  {
   "cell_type": "code",
   "execution_count": null,
   "metadata": {},
   "outputs": [],
   "source": [
    "# ask selenium to return elements by tag and contained text using Xpath\n",
    "link_elements = driver.find_elements_by_xpath(\"//a[text()='Journals']\")\n",
    "# Notice: we used \"\" outside to mark the entire string, and use '' to mark the internal text for the xpath\n",
    "\n",
    "# inspect the returned elements (a python list)\n",
    "link_elements"
   ]
  },
  {
   "cell_type": "code",
   "execution_count": null,
   "metadata": {},
   "outputs": [],
   "source": [
    "# inspect how many elements were found\n",
    "len(link_elements)"
   ]
  },
  {
   "cell_type": "code",
   "execution_count": null,
   "metadata": {
    "scrolled": true
   },
   "outputs": [],
   "source": [
    "# retrieve the first element\n",
    "link = link_elements[0]\n",
    "# inspect the link\n",
    "link"
   ]
  },
  {
   "cell_type": "markdown",
   "metadata": {},
   "source": [
    "### Click an element"
   ]
  },
  {
   "cell_type": "code",
   "execution_count": null,
   "metadata": {},
   "outputs": [],
   "source": [
    "# click on the link\n",
    "link.click()"
   ]
  },
  {
   "cell_type": "markdown",
   "metadata": {},
   "source": [
    "## Task 2: Retrieve text information by tag and attributes"
   ]
  },
  {
   "cell_type": "markdown",
   "metadata": {},
   "source": [
    "### Find element by tag and attributes (using Xpath)"
   ]
  },
  {
   "cell_type": "markdown",
   "metadata": {},
   "source": [
    "Sometimes we need to identify elements of interests using tags and attributes."
   ]
  },
  {
   "cell_type": "markdown",
   "metadata": {},
   "source": [
    "For example, each news is contained in a `div` with a specific class attribute.\n",
    "\n",
    "So we try the xpath:\n",
    "\n",
    "`//div[@class='news-text']`"
   ]
  },
  {
   "cell_type": "code",
   "execution_count": null,
   "metadata": {
    "scrolled": true
   },
   "outputs": [],
   "source": [
    "# ask selenium to return elements by tag and contained text using Xpath\n",
    "news_elements = driver.find_elements_by_xpath(\"//div[@class='news-text']\")\n",
    "# inspect the returned elements (a python list)\n",
    "news_elements"
   ]
  },
  {
   "cell_type": "code",
   "execution_count": null,
   "metadata": {},
   "outputs": [],
   "source": [
    "# inspect how many elements were found\n",
    "len(news_elements)"
   ]
  },
  {
   "cell_type": "code",
   "execution_count": null,
   "metadata": {
    "scrolled": true
   },
   "outputs": [],
   "source": [
    "# store the first element\n",
    "news_element = news_elements[0]\n",
    "# return its text\n",
    "news_element.text"
   ]
  },
  {
   "cell_type": "markdown",
   "metadata": {},
   "source": [
    "We can now use the `.split` method in python, to separate the text into three parts."
   ]
  },
  {
   "cell_type": "code",
   "execution_count": null,
   "metadata": {
    "scrolled": false
   },
   "outputs": [],
   "source": [
    "# split the returned text by `\\n`, which is linebreak, into a list\n",
    "text_list = news_element.text.split('\\n')\n",
    "# inspect\n",
    "text_list"
   ]
  },
  {
   "cell_type": "code",
   "execution_count": null,
   "metadata": {},
   "outputs": [],
   "source": [
    "# store title\n",
    "title = text_list[0]\n",
    "# store date\n",
    "date = text_list[1]\n",
    "# store date\n",
    "summary = text_list[2]"
   ]
  },
  {
   "cell_type": "code",
   "execution_count": null,
   "metadata": {},
   "outputs": [],
   "source": [
    "title"
   ]
  },
  {
   "cell_type": "code",
   "execution_count": null,
   "metadata": {
    "scrolled": true
   },
   "outputs": [],
   "source": [
    "date"
   ]
  },
  {
   "cell_type": "code",
   "execution_count": null,
   "metadata": {},
   "outputs": [],
   "source": [
    "summary"
   ]
  },
  {
   "cell_type": "markdown",
   "metadata": {},
   "source": [
    "### A note: CSS selectors"
   ]
  },
  {
   "cell_type": "markdown",
   "metadata": {},
   "source": [
    "**CSS selectors** is another script language to select elements in HTML scripts, which has slightly different conventions from Xpath.\n",
    "\n",
    "Sometimes, it may be more convenient to use CSS selectors. "
   ]
  },
  {
   "cell_type": "markdown",
   "metadata": {},
   "source": [
    "For example, if the HTML element of choice is \n",
    "`<a href=\"/journals\">Journals</a>`,\n",
    "we might come up with a CSS selector of \n",
    "\n",
    "`a[href='/journals']`\n",
    "\n",
    "to select by tag `<a>` and attribute `href` that is equal to the text string `'/journals'`"
   ]
  },
  {
   "cell_type": "markdown",
   "metadata": {},
   "source": [
    "# Python lists"
   ]
  },
  {
   "cell_type": "markdown",
   "metadata": {},
   "source": [
    "Python list is a data structure used to store a series of related contents, such as values or strings. "
   ]
  },
  {
   "cell_type": "code",
   "execution_count": null,
   "metadata": {},
   "outputs": [],
   "source": [
    "# initiate an example list\n",
    "test = []\n",
    "test"
   ]
  },
  {
   "cell_type": "code",
   "execution_count": null,
   "metadata": {},
   "outputs": [],
   "source": [
    "# define list by entering data\n",
    "test = [1, 2, 3]\n",
    "# inspect\n",
    "test"
   ]
  },
  {
   "cell_type": "code",
   "execution_count": null,
   "metadata": {},
   "outputs": [],
   "source": [
    "# append element to the end a list\n",
    "test.append(4)\n",
    "# inspect\n",
    "test"
   ]
  },
  {
   "cell_type": "code",
   "execution_count": null,
   "metadata": {},
   "outputs": [],
   "source": [
    "# define list by entering text\n",
    "test = ['a', 'b', 'c']\n",
    "# inspect\n",
    "test"
   ]
  },
  {
   "cell_type": "code",
   "execution_count": null,
   "metadata": {
    "scrolled": true
   },
   "outputs": [],
   "source": [
    "# append element to the end a list\n",
    "test.append('d')\n",
    "# inspect\n",
    "test"
   ]
  },
  {
   "cell_type": "markdown",
   "metadata": {},
   "source": [
    "Now we can prepare lists to store collected text data"
   ]
  },
  {
   "cell_type": "code",
   "execution_count": null,
   "metadata": {},
   "outputs": [],
   "source": [
    "# initiate empty lists to store result\n",
    "title = []\n",
    "summary = []"
   ]
  },
  {
   "cell_type": "markdown",
   "metadata": {},
   "source": [
    "# `for` loops in Python"
   ]
  },
  {
   "cell_type": "markdown",
   "metadata": {},
   "source": [
    "`for` loops in python is marked by `:` and indented scripts with four spaces, there is no `end` mark for a loop."
   ]
  },
  {
   "cell_type": "code",
   "execution_count": null,
   "metadata": {},
   "outputs": [],
   "source": [
    "# loop through all elements found previously in news_elements\n",
    "for news_element in news_elements:\n",
    "    # split text from each element\n",
    "    text_list = news_element.text.split('\\n')\n",
    "    # append title\n",
    "    title.append(text_list[0])\n",
    "    # append summary\n",
    "    summary.append(text_list[2])"
   ]
  },
  {
   "cell_type": "code",
   "execution_count": null,
   "metadata": {},
   "outputs": [],
   "source": [
    "# inspect\n",
    "title"
   ]
  },
  {
   "cell_type": "code",
   "execution_count": null,
   "metadata": {},
   "outputs": [],
   "source": [
    "# inspect\n",
    "summary"
   ]
  },
  {
   "cell_type": "markdown",
   "metadata": {},
   "source": [
    "# Python package: pandas"
   ]
  },
  {
   "cell_type": "markdown",
   "metadata": {},
   "source": [
    "Pandas is a python library designed to work with data analysis. It provides a large set of tools in data processing. \n",
    "\n",
    "Here, we will use pandas to organize our lists of results into a excel file. "
   ]
  },
  {
   "cell_type": "code",
   "execution_count": null,
   "metadata": {},
   "outputs": [],
   "source": [
    "### set output excel file path and file name\n",
    "xls_name = \"/Users/lhe/Downloads/research_highlights.xlsx\"\n",
    "\n",
    "# set column names for the data frame\n",
    "column_names = [\"title\", \"summary\"]\n",
    "\n",
    "### create data frame using scraped and updated information\n",
    "# create full set of column names\n",
    "result_list_new = pd.DataFrame(columns = column_names)\n",
    "# store results into df\n",
    "result_list_new[\"title\"] = title\n",
    "result_list_new[\"summary\"] = summary\n",
    "# add df index by 1\n",
    "result_list_new.index += 1 \n",
    "\n",
    "# save file to excel (freeze top row)\n",
    "result_list_new.to_excel(xls_name,index=True,freeze_panes=(1,2))"
   ]
  },
  {
   "cell_type": "markdown",
   "metadata": {},
   "source": [
    "# Python package: BeautifulSoup"
   ]
  },
  {
   "cell_type": "markdown",
   "metadata": {},
   "source": [
    "BeautifulSoup is a python package that processes HTML source code *quickly*."
   ]
  },
  {
   "cell_type": "code",
   "execution_count": null,
   "metadata": {},
   "outputs": [],
   "source": [
    "# pass HTML source code from selenium to BeautifulSoup\n",
    "# pass selenium driver source page to BS4\n",
    "page_source = driver.page_source\n",
    "# parse page source with BS4\n",
    "page_soup = soup(page_source, \"html.parser\")"
   ]
  },
  {
   "cell_type": "code",
   "execution_count": null,
   "metadata": {},
   "outputs": [],
   "source": [
    "# loop through all `<a>` tags with a given href pattern\n",
    "for div in page_soup.find_all(\"div\", {\"class\" : \"news-text\"}):\n",
    "    title.append(div.find(\"a\").text.strip())\n",
    "    summary.append(div.contents[-1].strip())"
   ]
  }
 ],
 "metadata": {
  "kernelspec": {
   "display_name": "Python 3",
   "language": "python",
   "name": "python3"
  },
  "language_info": {
   "codemirror_mode": {
    "name": "ipython",
    "version": 3
   },
   "file_extension": ".py",
   "mimetype": "text/x-python",
   "name": "python",
   "nbconvert_exporter": "python",
   "pygments_lexer": "ipython3",
   "version": "3.7.4"
  }
 },
 "nbformat": 4,
 "nbformat_minor": 2
}

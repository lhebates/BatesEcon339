{
 "cells": [
  {
   "cell_type": "markdown",
   "metadata": {},
   "source": [
    "Import necessary packages."
   ]
  },
  {
   "cell_type": "code",
   "execution_count": 1,
   "metadata": {},
   "outputs": [],
   "source": [
    "# import all functions from python labrary: sympy\n",
    "from sympy import *\n",
    "# import python library: matplotlib (for nice plots)\n",
    "import matplotlib\n",
    "# set sympy output to print pretty math expressions\n",
    "init_printing()"
   ]
  },
  {
   "cell_type": "markdown",
   "metadata": {},
   "source": [
    "Declare variables we are going to use as 'symbols'. We will add more along the way, if necessary."
   ]
  },
  {
   "cell_type": "code",
   "execution_count": 3,
   "metadata": {},
   "outputs": [],
   "source": [
    "q1, q2, q0, p1, p2, y, a, b, d= symbols('q1 q2 q0 p1 p2 y a b d')"
   ]
  },
  {
   "cell_type": "markdown",
   "metadata": {},
   "source": [
    "# 1. Solve for optimal consumption analytically"
   ]
  },
  {
   "cell_type": "markdown",
   "metadata": {},
   "source": [
    "## Setup the optimization program"
   ]
  },
  {
   "cell_type": "markdown",
   "metadata": {},
   "source": [
    "Our optimization problem is\n",
    "\\begin{align}\n",
    "    & \\max_{q_0,q_1,q_2} \\quad u(q_0,q_1,q_2) = a q_1 + a q_2 - \\frac{1}{2}(b q_1^2 + 2 d q_1 q_2 + bq_2^2) + q_0 \\\\\n",
    "    \\text{s.t.}\\quad & p_1 q_1 + p_2 q_2 + q_0 = y\n",
    "\\end{align}"
   ]
  },
  {
   "cell_type": "markdown",
   "metadata": {},
   "source": [
    "## Setup the utility function"
   ]
  },
  {
   "cell_type": "code",
   "execution_count": 4,
   "metadata": {},
   "outputs": [
    {
     "data": {
      "image/png": "[encoded data removed]",
      "text/latex": [
       "$\\displaystyle a q_{1} + a q_{2} - 0.5 b q_{1}^{2} - 0.5 b q_{2}^{2} - 1.0 d q_{1} q_{2} + q_{0}$"
      ],
      "text/plain": [
       "                      2           2                   \n",
       "a⋅q₁ + a⋅q₂ - 0.5⋅b⋅q₁  - 0.5⋅b⋅q₂  - 1.0⋅d⋅q₁⋅q₂ + q₀"
      ]
     },
     "execution_count": 4,
     "metadata": {},
     "output_type": "execute_result"
    }
   ],
   "source": [
    "# Note: in sympy syntax: use double star ** for power\n",
    "u = a*q1 + a*q2 - 1/2*(b*q1**2 + 2*d*q1*q2 + b*q2**2) + q0\n",
    "# show the defined function\n",
    "u"
   ]
  },
  {
   "cell_type": "markdown",
   "metadata": {},
   "source": [
    "## Setup the lagrangian"
   ]
  },
  {
   "cell_type": "code",
   "execution_count": 5,
   "metadata": {
    "scrolled": false
   },
   "outputs": [
    {
     "data": {
      "image/png": "[encoded data removed]",
      "text/latex": [
       "$\\displaystyle a q_{1} + a q_{2} - 0.5 b q_{1}^{2} - 0.5 b q_{2}^{2} - 1.0 d q_{1} q_{2} + \\lambda \\left(- p_{1} q_{1} - p_{2} q_{2} - q_{0} + y\\right) + q_{0}$"
      ],
      "text/plain": [
       "                      2           2                                           \n",
       "a⋅q₁ + a⋅q₂ - 0.5⋅b⋅q₁  - 0.5⋅b⋅q₂  - 1.0⋅d⋅q₁⋅q₂ + λ⋅(-p₁⋅q₁ - p₂⋅q₂ - q₀ + y\n",
       "\n",
       "      \n",
       ") + q₀"
      ]
     },
     "execution_count": 5,
     "metadata": {},
     "output_type": "execute_result"
    }
   ],
   "source": [
    "lam = symbols('lambda')\n",
    "lagr = u + lam *(y - p1*q1 - p2*q2 - q0)\n",
    "lagr"
   ]
  },
  {
   "cell_type": "markdown",
   "metadata": {},
   "source": [
    "Solve the first-order conditions. \n",
    "\n",
    "Note the syntax of the solve function, especially the use of the brackets:\n",
    "solve( (eq1, eq2, eq3), var1, var2, var3)\n",
    "\n",
    "The equations are by default treated as equal to 0 by the solver."
   ]
  },
  {
   "cell_type": "code",
   "execution_count": 6,
   "metadata": {
    "scrolled": true
   },
   "outputs": [
    {
     "data": {
      "image/png": "[encoded data removed]",
      "text/latex": [
       "$\\displaystyle \\left\\{ \\lambda : 1.0, \\  q_{0} : \\frac{- a \\left(b p_{1} - d p_{2}\\right) - a \\left(b p_{2} - d p_{1}\\right) + b p_{1}^{2} + b p_{2}^{2} - 2.0 d p_{1} p_{2} + y \\left(b^{2} - d^{2}\\right)}{b^{2} - d^{2}}, \\  q_{1} : \\frac{a b - a d - b p_{1} + d p_{2}}{b^{2} - d^{2}}, \\  q_{2} : \\frac{a b - a d - b p_{2} + d p_{1}}{b^{2} - d^{2}}\\right\\}$"
      ],
      "text/plain": [
       "⎧                                                     2       2               \n",
       "⎪            -a⋅(b⋅p₁ - d⋅p₂) - a⋅(b⋅p₂ - d⋅p₁) + b⋅p₁  + b⋅p₂  - 2.0⋅d⋅p₁⋅p₂ \n",
       "⎨λ: 1.0, q₀: ─────────────────────────────────────────────────────────────────\n",
       "⎪                                                2    2                       \n",
       "⎩                                               b  - d                        \n",
       "\n",
       "    ⎛ 2    2⎞                                                          ⎫\n",
       "+ y⋅⎝b  - d ⎠      a⋅b - a⋅d - b⋅p₁ + d⋅p₂      a⋅b - a⋅d - b⋅p₂ + d⋅p₁⎪\n",
       "─────────────, q₁: ───────────────────────, q₂: ───────────────────────⎬\n",
       "                            2    2                       2    2        ⎪\n",
       "                           b  - d                       b  - d         ⎭"
      ]
     },
     "execution_count": 6,
     "metadata": {},
     "output_type": "execute_result"
    }
   ],
   "source": [
    "foc_sol = solve( (diff(lagr,q0), diff(lagr,q1), diff(lagr,q2), diff(lagr,lam) ), q0,q1,q2,lam)\n",
    "foc_sol"
   ]
  }
 ],
 "metadata": {
  "kernelspec": {
   "display_name": "Python 3",
   "language": "python",
   "name": "python3"
  },
  "language_info": {
   "codemirror_mode": {
    "name": "ipython",
    "version": 3
   },
   "file_extension": ".py",
   "mimetype": "text/x-python",
   "name": "python",
   "nbconvert_exporter": "python",
   "pygments_lexer": "ipython3",
   "version": "3.7.4"
  }
 },
 "nbformat": 4,
 "nbformat_minor": 1
}

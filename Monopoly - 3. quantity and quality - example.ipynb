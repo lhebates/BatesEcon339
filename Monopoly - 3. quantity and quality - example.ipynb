{
 "cells": [
  {
   "cell_type": "markdown",
   "metadata": {},
   "source": [
    "Import necessary packages."
   ]
  },
  {
   "cell_type": "code",
   "execution_count": 19,
   "metadata": {},
   "outputs": [],
   "source": [
    "# import all functions from python labrary: sympy\n",
    "from sympy import *\n",
    "# import python library: matplotlib (for nice plots)\n",
    "import matplotlib\n",
    "# set sympy output to print pretty math expressions\n",
    "init_printing()"
   ]
  },
  {
   "cell_type": "markdown",
   "metadata": {},
   "source": [
    "Declare variables we are going to use as 'symbols'. We will add more along the way, if necessary."
   ]
  },
  {
   "cell_type": "code",
   "execution_count": 25,
   "metadata": {},
   "outputs": [],
   "source": [
    "### NOTE: it is important here to further declare these variables to be nonzero and positive (otherwise sympy cannot find solution for the FOCs)\n",
    "Q, c, a, b, pi, s = symbols('Q c a b \\pi s', nonzero=True, positive=True)"
   ]
  },
  {
   "cell_type": "markdown",
   "metadata": {},
   "source": [
    "# monopoly with fixed-cost investment in quality: setup"
   ]
  },
  {
   "cell_type": "markdown",
   "metadata": {},
   "source": [
    "## Firm and linear demand"
   ]
  },
  {
   "cell_type": "markdown",
   "metadata": {},
   "source": [
    "Assume one monopolistic firm sells a product in a given market. We assume the firm has a constant marginal cost, $c$.\n",
    "\n",
    "<span style=\"color:#CC3300\"> In addition, we assume that \n",
    "* the firm can choose an invest in quality, denoted by $s$\n",
    "* the cost of the investment is in the form of fixed cost, i.e., the investment does not affect the variable cost\n",
    "* higher quality increases demand\n",
    "</span>\n",
    "\n",
    "The market demand for a product is linear, such that the inverse demand function takes the form of\n",
    "\\begin{align}\n",
    "    p = a - b Q + \\sqrt{s}\n",
    "\\end{align}\n",
    "\n",
    "We assume $a > c$, so that consumer's willingness to pay exceeds the firm's cost to produce."
   ]
  },
  {
   "cell_type": "markdown",
   "metadata": {},
   "source": [
    "## Graph"
   ]
  },
  {
   "cell_type": "code",
   "execution_count": 62,
   "metadata": {},
   "outputs": [
    {
     "data": {
      "image/png": "[encoded data removed]",
      "text/plain": [
       "<Figure size 432x288 with 1 Axes>"
      ]
     },
     "metadata": {
      "needs_background": "light"
     },
     "output_type": "display_data"
    }
   ],
   "source": [
    "# Define inverse demand and calculate MR\n",
    "DInverse = a - b*Q + s**(1/2)\n",
    "MRcurve = diff(DInverse*Q, Q)\n",
    "\n",
    "# Plotting inverse market demand 0\n",
    "Dplot0 = plot(DInverse.subs([(a,100),(b,Rational(1,2)),(s,0)]), (Q,0,300), xlim=[0,260], ylim=[0,120], xlabel=\"$Q$\", ylabel=\"$p$\", show=False)\n",
    "# Plotting MB curve 0\n",
    "MRplot0 = plot(MRcurve.subs([(a,100),(b,Rational(1,2)),(s,0)]), (Q,0,300), xlim=[0,200], ylim=[0,120], xlabel=\"$Q$\", ylabel=\"$p$\", show=False)\n",
    "\n",
    "# Plotting inverse market demand 1\n",
    "Dplot1 = plot(DInverse.subs([(a,100),(b,Rational(1,2)),(s,400)]), (Q,0,300), xlim=[0,200], ylim=[0,120], xlabel=\"$Q$\", ylabel=\"$p$\", show=False)\n",
    "# Plotting MB curve 1\n",
    "MRplot1 = plot(MRcurve.subs([(a,100),(b,Rational(1,2)),(s,400)]), (Q,0,300), xlim=[0,200], ylim=[0,120], xlabel=\"$Q$\", ylabel=\"$p$\", show=False)\n",
    "\n",
    "\n",
    "# Plotting MC curve\n",
    "MCcurve = c\n",
    "MCplot0 = plot(MCcurve.subs([(c,20)]), (Q,0,300), xlim=[0,200], ylim=[0,100], xlabel=\"$Q$\", ylabel=\"$p$\", show=False)\n",
    "\n",
    "\n",
    "# combine plots into one plot\n",
    "plot_combo = Dplot0\n",
    "plot_combo.extend(MRplot0)\n",
    "plot_combo.extend(MCplot0)\n",
    "\n",
    "plot_combo.extend(Dplot1)\n",
    "plot_combo.extend(MRplot1)\n",
    "\n",
    "# assign colors for each line\n",
    "plot_combo[0].line_color='blue'\n",
    "plot_combo[1].line_color='darkblue'\n",
    "plot_combo[2].line_color='orchid'\n",
    "\n",
    "plot_combo[3].line_color='green'\n",
    "plot_combo[4].line_color='darkgreen'\n",
    "\n",
    "# show plot\n",
    "plot_combo.show()"
   ]
  },
  {
   "cell_type": "markdown",
   "metadata": {},
   "source": [
    "## The firm's profit-maximization problem"
   ]
  },
  {
   "cell_type": "markdown",
   "metadata": {},
   "source": [
    "Under these modeling assumptions, each firm's profit is\n",
    "\\begin{align}\n",
    "    \\pi &= p\\cdot Q - c \\cdot Q - s\\\\\n",
    "            &= (p-c)Q - s \\tag{1}\n",
    "\\end{align}"
   ]
  },
  {
   "cell_type": "markdown",
   "metadata": {},
   "source": [
    "Plugging in the inverse demand function, each firm's profit is\n",
    "\\begin{align}\n",
    "    \\pi(Q, s) & = \\big(a - b Q + \\sqrt{s} - c\\big) Q  - s  \\tag{2}\n",
    "\\end{align}"
   ]
  },
  {
   "cell_type": "markdown",
   "metadata": {},
   "source": [
    "From here, we can try to find the FOC w.r.t. Q for the firm. But we will explore an alternative development before going this route."
   ]
  },
  {
   "cell_type": "markdown",
   "metadata": {},
   "source": [
    "## The firm's profit-maximization problem (re-write in terms of p)"
   ]
  },
  {
   "cell_type": "markdown",
   "metadata": {},
   "source": [
    "Instead, from equation (1), we can plug in the demand function (not inverse demand) and rewrite $\\pi$ in terms of $p$. Specifically, the firm's demand function is \n",
    "$$ Q = \\frac{a}{b} + \\frac{\\sqrt{s}}{b} - \\frac{p}{b} .$$\n",
    "Plugging into (1), and we have\n",
    "\\begin{align}\n",
    "    \\pi(p, s) & = (p-c)\\big(\\frac{a}{b} + \\frac{\\sqrt{s}}{b} - \\frac{p}{b} \\big) - s  \\tag{3}\n",
    "\\end{align}"
   ]
  },
  {
   "cell_type": "markdown",
   "metadata": {},
   "source": [
    "# Analysis"
   ]
  },
  {
   "cell_type": "markdown",
   "metadata": {},
   "source": [
    "## Monopolist chooses $Q$ and $s$ to maximize profit"
   ]
  },
  {
   "cell_type": "markdown",
   "metadata": {},
   "source": [
    "If the firm chooses $Q$ and $s$ to maximize its profit, the firm maximizes (2), i.e.,\n",
    "\\begin{align}\n",
    "    \\max_{Q, s}\\pi(Q, s) & = \\big(a - bQ + \\sqrt{s} - c\\big) Q - s\n",
    "\\end{align}\n",
    "which implies the FOC's\n",
    "\\begin{align}\n",
    "    \\frac{\\partial \\pi}{\\partial Q} &= \\big(a - bQ + \\sqrt{s} - c\\big) - bQ = 0 \\\\\n",
    "    \\frac{\\partial \\pi}{\\partial s} &= \\frac{Q}{2\\sqrt{s}} - 1 = 0 \n",
    "\\end{align}\n",
    "The 2nd FOC implies that\n",
    "$$\\sqrt{s} = \\frac{Q}{2}$$\n",
    "which we plug into the first FOC\n",
    "\\begin{align}\n",
    "    && \\big(a - bQ + \\sqrt{s} - c\\big) - bQ &= 0 \\\\\n",
    "    \\Rightarrow&& \\big(a - bQ + \\frac{Q}{2} - c\\big) - bQ &= 0 \\\\\n",
    "    \\Rightarrow&& (2b - \\frac{1}{2})Q &= a-c \\\\\n",
    "    \\Rightarrow&& Q^* &= \\frac{2(a-c)}{4b-1} \\\\\n",
    "\\end{align}\n",
    "\n",
    "Plugging back into $\\sqrt{s} = \\frac{Q}{2}$, and we have\n",
    "\\begin{align}\n",
    "    s^* = \\Big(\\frac{Q^*}{2}\\Big)^2 = \\Big( \\frac{a-c}{4b-1} \\Big)^2\n",
    "\\end{align}\n",
    "\n",
    "Plugging $Q^*$ and $s^*$ back into the inverse demand, and the monopolist would price at\n",
    "\\begin{align}\n",
    "    p^* &= a - bQ^* + \\sqrt{s^*} \\\\\n",
    "        &= a - bQ^* + \\frac{Q^*}{2} \\\\\n",
    "        &= a + (\\frac{1}{2} - b) Q^* \\\\\n",
    "        &= a + (\\frac{1}{2} - b)(\\frac{2(a-c)}{4b-1})\n",
    "\\end{align}"
   ]
  },
  {
   "cell_type": "markdown",
   "metadata": {},
   "source": [
    "### Verify analysis using Sympy"
   ]
  },
  {
   "cell_type": "code",
   "execution_count": 63,
   "metadata": {},
   "outputs": [
    {
     "data": {
      "image/png": "[encoded data removed]",
      "text/latex": [
       "$\\displaystyle \\left( - 2 Q b + a - c + s^{0.5}, \\  \\frac{0.5 Q}{s^{0.5}} - 1\\right)$"
      ],
      "text/plain": [
       "⎛                  0.5         -0.5    ⎞\n",
       "⎝-2⋅Q⋅b + a - c + s   , 0.5⋅Q⋅s     - 1⎠"
      ]
     },
     "execution_count": 63,
     "metadata": {},
     "output_type": "execute_result"
    }
   ],
   "source": [
    "pi = DInverse*Q - c*Q - s\n",
    "(pi.diff(Q), pi.diff(s))"
   ]
  },
  {
   "cell_type": "code",
   "execution_count": 64,
   "metadata": {
    "scrolled": true
   },
   "outputs": [
    {
     "data": {
      "image/png": "[encoded data removed]",
      "text/latex": [
       "$\\displaystyle \\left[ \\left( \\frac{2.0 \\left|{a - c}\\right|}{\\left|{4.0 b - 1.0}\\right|}, \\  \\frac{\\left(a - c\\right)^{2}}{\\left(4.0 b - 1.0\\right)^{2}}\\right)\\right]$"
      ],
      "text/plain": [
       "⎡⎛                         2   ⎞⎤\n",
       "⎢⎜ 2.0⋅│a - c│      (a - c)    ⎟⎥\n",
       "⎢⎜─────────────, ──────────────⎟⎥\n",
       "⎢⎜│4.0⋅b - 1.0│               2⎟⎥\n",
       "⎣⎝               (4.0⋅b - 1.0) ⎠⎦"
      ]
     },
     "execution_count": 64,
     "metadata": {},
     "output_type": "execute_result"
    }
   ],
   "source": [
    "foc_sol = solve( ( diff(pi,Q), diff(pi,s) ), Q,s )\n",
    "foc_sol"
   ]
  },
  {
   "cell_type": "code",
   "execution_count": 65,
   "metadata": {
    "scrolled": true
   },
   "outputs": [
    {
     "data": {
      "image/png": "[encoded data removed]",
      "text/latex": [
       "$\\displaystyle \\frac{2.0 \\left|{a - c}\\right|}{\\left|{4.0 b - 1.0}\\right|}$"
      ],
      "text/plain": [
       " 2.0⋅│a - c│ \n",
       "─────────────\n",
       "│4.0⋅b - 1.0│"
      ]
     },
     "execution_count": 65,
     "metadata": {},
     "output_type": "execute_result"
    }
   ],
   "source": [
    "foc_sol[0][0]"
   ]
  },
  {
   "cell_type": "code",
   "execution_count": 68,
   "metadata": {},
   "outputs": [
    {
     "data": {
      "image/png": "[encoded data removed]",
      "text/latex": [
       "$\\displaystyle a - \\frac{b \\left(2 a - 2 c\\right)}{4 b - 1} + \\frac{2 a - 2 c}{2 \\left(4 b - 1\\right)}$"
      ],
      "text/plain": [
       "    b⋅(2⋅a - 2⋅c)    2⋅a - 2⋅c \n",
       "a - ───────────── + ───────────\n",
       "       4⋅b - 1      2⋅(4⋅b - 1)"
      ]
     },
     "execution_count": 68,
     "metadata": {},
     "output_type": "execute_result"
    }
   ],
   "source": [
    "(a-b*Q+Q/2).subs([(Q, 2*(a-c)/(4*b-1))])"
   ]
  },
  {
   "cell_type": "markdown",
   "metadata": {},
   "source": [
    "# Challenge"
   ]
  },
  {
   "cell_type": "markdown",
   "metadata": {},
   "source": [
    "**Q1**: solve the monopolist's problem, but let the firm maximize profit by choosing $p$ and $s$. \n",
    "\n",
    "Compare your solution to the previous solution, do you find the same profit-maximizing price, quantity and quality choices?"
   ]
  },
  {
   "cell_type": "markdown",
   "metadata": {},
   "source": []
  }
 ],
 "metadata": {
  "kernelspec": {
   "display_name": "Python 3",
   "language": "python",
   "name": "python3"
  },
  "language_info": {
   "codemirror_mode": {
    "name": "ipython",
    "version": 3
   },
   "file_extension": ".py",
   "mimetype": "text/x-python",
   "name": "python",
   "nbconvert_exporter": "python",
   "pygments_lexer": "ipython3",
   "version": "3.7.4"
  }
 },
 "nbformat": 4,
 "nbformat_minor": 2
}

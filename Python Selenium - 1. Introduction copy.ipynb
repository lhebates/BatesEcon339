{
 "cells": [
  {
   "cell_type": "markdown",
   "metadata": {},
   "source": [
    "This notebook illustrates how to use python to assist data collection for academic research. \n",
    "\n",
    "The collected data should only serve academic research purposes. \n",
    "\n",
    "One should never post the collected data in publicly accessible websites without explicit consent from the original website. \n",
    "\n",
    "One should never profit financially from the collected data. "
   ]
  },
  {
   "cell_type": "markdown",
   "metadata": {},
   "source": [
    "# Install required packages (only need to run the first time)"
   ]
  },
  {
   "cell_type": "code",
   "execution_count": null,
   "metadata": {},
   "outputs": [],
   "source": [
    "# First: install Anaconda python: https://www.anaconda.com/products/individual\n",
    "\n",
    "# install necessary packages\n",
    "## package: selenium for navigating webpages using google chrome\n",
    "# Note: also need to download chromedriver to hard drive\n",
    "# !pip install -U selenium\n",
    "# install using: \n",
    "!pip3 install -U selenium\n",
    "# then:\n",
    "!pip3 install webdriver-manager\n",
    "\n",
    "## package: time for pausing the script execution\n",
    "!pip3 install time\n",
    "## package: BeautifulSoup for processing web scripts\n",
    "!pip3 install -U BeautifulSoup\n",
    "## package: pandas for process data\n",
    "!pip3 install -U pandas\n",
    "## package: os for accessing operating system information\n",
    "!pip3 install -U os\n",
    "## package: html5lib for parsing html\n",
    "!pip3 install html5lib"
   ]
  },
  {
   "cell_type": "markdown",
   "metadata": {},
   "source": [
    "# Import required packages"
   ]
  },
  {
   "cell_type": "code",
   "execution_count": 1,
   "metadata": {},
   "outputs": [],
   "source": [
    "from selenium import webdriver\n",
    "# import Keys to allow for hotkeys\n",
    "from selenium.webdriver.common.keys import Keys\n",
    "# import ActionChains to allow for page scrolling\n",
    "from selenium.webdriver.common.action_chains import ActionChains\n",
    "# import expected_conditions to wait for elements to appear in web before preceeding\n",
    "from selenium.webdriver.common.by import By\n",
    "from selenium.webdriver.support.ui import WebDriverWait\n",
    "from selenium.webdriver.support import expected_conditions as EC\n",
    "# import Select to select options\n",
    "from selenium.webdriver.support.ui import Select\n",
    "\n",
    "from selenium.webdriver.chrome.service import Service\n",
    "# install using: \n",
    "#   pip3 install -U selenium\n",
    "# then:\n",
    "#   pip3 install webdriver-manager\n",
    "from webdriver_manager.chrome import ChromeDriverManager\n",
    "import time\n",
    "\n",
    "from time import sleep\n",
    "\n",
    "from bs4 import BeautifulSoup as soup\n",
    "\n",
    "import pandas as pd\n",
    "\n",
    "import os.path"
   ]
  },
  {
   "cell_type": "markdown",
   "metadata": {},
   "source": [
    "# Python selenium with chromedriver"
   ]
  },
  {
   "cell_type": "markdown",
   "metadata": {},
   "source": [
    "We will use python selenium to control a chromedriver application to navigate websites.\n",
    "\n",
    "The chromedriver is an open source software that needs to be downloaded to the hard drive. "
   ]
  },
  {
   "cell_type": "markdown",
   "metadata": {},
   "source": [
    "After downloading the chromedriver to local disk, change the path and run:"
   ]
  },
  {
   "cell_type": "code",
   "execution_count": 2,
   "metadata": {},
   "outputs": [
    {
     "name": "stderr",
     "output_type": "stream",
     "text": [
      "\n",
      "\n",
      "====== WebDriver manager ======\n",
      "Current google-chrome version is 109.0.5414\n",
      "Get LATEST chromedriver version for 109.0.5414 google-chrome\n",
      "Trying to download new driver from https://chromedriver.storage.googleapis.com/109.0.5414.74/chromedriver_mac64.zip\n",
      "Driver has been saved in cache [/Users/lhe/.wdm/drivers/chromedriver/mac64/109.0.5414.74]\n"
     ]
    }
   ],
   "source": [
    "# start a chrome browser\n",
    "driver = webdriver.Chrome(service=Service(ChromeDriverManager().install()))"
   ]
  },
  {
   "cell_type": "markdown",
   "metadata": {},
   "source": [
    "set url and load url"
   ]
  },
  {
   "cell_type": "code",
   "execution_count": 3,
   "metadata": {},
   "outputs": [],
   "source": [
    "# set url (as a text string)\n",
    "url = \"https://www.aeaweb.org/research?path=research&page=1&per-page=10#list\"\n",
    "# load url\n",
    "driver.get(url)\n",
    "# notes: \n",
    "## driver is an object, the webdriver controlled by selenium\n",
    "## get is a method (think of it as a function) defined in the selenium package"
   ]
  },
  {
   "cell_type": "markdown",
   "metadata": {},
   "source": [
    "# HTML tags and scripts"
   ]
  },
  {
   "cell_type": "markdown",
   "metadata": {},
   "source": [
    "We need to understand some basic structures of the HTML language to instruct the python packages to perform any task."
   ]
  },
  {
   "cell_type": "code",
   "execution_count": 4,
   "metadata": {},
   "outputs": [],
   "source": [
    "# set url\n",
    "url = \"https://en.wikipedia.org/wiki/HTML\"\n",
    "# load url\n",
    "driver.get(url)"
   ]
  },
  {
   "cell_type": "markdown",
   "metadata": {},
   "source": [
    "### HTML content is structured around elements"
   ]
  },
  {
   "cell_type": "code",
   "execution_count": null,
   "metadata": {},
   "outputs": [],
   "source": [
    "# set url\n",
    "url = \"https://en.wikipedia.org/wiki/HTML_element\"\n",
    "# load url\n",
    "driver.get(url)"
   ]
  },
  {
   "cell_type": "markdown",
   "metadata": {},
   "source": [
    "It is essential to understand the following concepts:\n",
    "* elements\n",
    "* tags\n",
    "* attributes\n",
    "* content"
   ]
  },
  {
   "cell_type": "code",
   "execution_count": null,
   "metadata": {},
   "outputs": [],
   "source": [
    "# set url\n",
    "url = \"https://en.wikipedia.org/wiki/HTML_element#Syntax\"\n",
    "# load url\n",
    "driver.get(url)"
   ]
  },
  {
   "cell_type": "markdown",
   "metadata": {},
   "source": [
    "Think of **elements** as containers on a web page.\n",
    "\n",
    "Right click in browser, and choose: \"Inspect\"."
   ]
  },
  {
   "cell_type": "markdown",
   "metadata": {},
   "source": [
    "Most **elements** are marked by **tags** at the beginning and the end of an element. "
   ]
  },
  {
   "cell_type": "markdown",
   "metadata": {},
   "source": [
    "Each tag is marked by angle brackets, such as `<a>`"
   ]
  },
  {
   "cell_type": "markdown",
   "metadata": {},
   "source": [
    "And **attributes** are special words inside the opening tag to control the element's behavior. \n",
    "\n",
    "Such as `<a href=\"/wiki/HTML\" title=\"HTML\">HTML</a>`"
   ]
  },
  {
   "cell_type": "markdown",
   "metadata": {},
   "source": [
    "The **contents** are usually the visible information on the web page, such as texts or images."
   ]
  },
  {
   "cell_type": "markdown",
   "metadata": {},
   "source": [
    "# Navigate and retrieve information using Selenium"
   ]
  },
  {
   "cell_type": "markdown",
   "metadata": {},
   "source": [
    "Now we return to the AEA website:"
   ]
  },
  {
   "cell_type": "code",
   "execution_count": 5,
   "metadata": {},
   "outputs": [],
   "source": [
    "# set url (as a text string)\n",
    "url = \"https://www.aeaweb.org/research?path=research&page=1&per-page=10#list\"\n",
    "# load url\n",
    "driver.get(url)"
   ]
  },
  {
   "cell_type": "markdown",
   "metadata": {},
   "source": [
    "## Task 1: click the \"Journals\" link on top of the page"
   ]
  },
  {
   "cell_type": "markdown",
   "metadata": {},
   "source": [
    "The main challenge is that we need to \"tell\" selenium which element contains the link we want to click.\n",
    "\n",
    "For this, we need to pass on some information about the element of choice. \n",
    "\n",
    "To find out features that identifies an element, we right click *on* the element in the browser, and select \"Inspect\" to see the HTML source code of the element of choice. "
   ]
  },
  {
   "cell_type": "markdown",
   "metadata": {},
   "source": [
    "To identify the element of choice, we need some additional \"selector language\" to pin down the element in the massive HTML source code. \n",
    "\n",
    "This takes a lot of trial and error."
   ]
  },
  {
   "cell_type": "markdown",
   "metadata": {},
   "source": [
    "### Find element by text (using Xpath)"
   ]
  },
  {
   "cell_type": "markdown",
   "metadata": {},
   "source": [
    "**Xpath selector** is a script language to select elements in HTML scripts. \n",
    "\n",
    "To find all the `<a>` elements in a web page with the exact text of `Journals`, the Xpath would be:\n",
    "\n",
    "`//a[text()='Journals']`\n",
    "\n",
    "One good tutorial is: https://www.w3schools.com/xml/xpath_intro.asp"
   ]
  },
  {
   "cell_type": "markdown",
   "metadata": {},
   "source": [
    "Try your selector by:\n",
    "1. click in the source code pan in Chrome\n",
    "2. hit \"control + F\" (windows) or \"cmd + F\" (mac) to search\n",
    "3. type/paste in your selector, see \n",
    "    * if chrome can find it, and \n",
    "    * how many elements it found\n",
    "4. if you found the desired elements, you are good to proceed"
   ]
  },
  {
   "cell_type": "code",
   "execution_count": 6,
   "metadata": {},
   "outputs": [
    {
     "name": "stderr",
     "output_type": "stream",
     "text": [
      "/var/folders/8h/qk3v0tzx38s3f9x_dxz5wd2x22y8gc/T/ipykernel_9674/1828678978.py:2: DeprecationWarning: find_elements_by_xpath is deprecated. Please use find_elements(by=By.XPATH, value=xpath) instead\n",
      "  link_elements = driver.find_elements_by_xpath(\"//a[text()='Journals']\")\n"
     ]
    },
    {
     "data": {
      "text/plain": [
       "[<selenium.webdriver.remote.webelement.WebElement (session=\"5d7b3de76bbabe48244cbf6993cb12cf\", element=\"c962dcf3-ca4c-46da-98aa-923166daed32\")>,\n",
       " <selenium.webdriver.remote.webelement.WebElement (session=\"5d7b3de76bbabe48244cbf6993cb12cf\", element=\"c7a8d178-070e-43fe-b54b-3d7ca6e6544e\")>]"
      ]
     },
     "execution_count": 6,
     "metadata": {},
     "output_type": "execute_result"
    }
   ],
   "source": [
    "# ask selenium to return elements by tag and contained text using Xpath\n",
    "link_elements = driver.find_elements_by_xpath(\"//a[text()='Journals']\")\n",
    "# Notice: we used \"\" outside to mark the entire string, and use '' to mark the internal text for the xpath\n",
    "\n",
    "# inspect the returned elements (a python list)\n",
    "link_elements"
   ]
  },
  {
   "cell_type": "code",
   "execution_count": 7,
   "metadata": {},
   "outputs": [
    {
     "data": {
      "text/plain": [
       "2"
      ]
     },
     "execution_count": 7,
     "metadata": {},
     "output_type": "execute_result"
    }
   ],
   "source": [
    "# inspect how many elements were found\n",
    "len(link_elements)"
   ]
  },
  {
   "cell_type": "code",
   "execution_count": 8,
   "metadata": {
    "scrolled": true
   },
   "outputs": [
    {
     "data": {
      "text/plain": [
       "<selenium.webdriver.remote.webelement.WebElement (session=\"5d7b3de76bbabe48244cbf6993cb12cf\", element=\"c962dcf3-ca4c-46da-98aa-923166daed32\")>"
      ]
     },
     "execution_count": 8,
     "metadata": {},
     "output_type": "execute_result"
    }
   ],
   "source": [
    "# retrieve the first element\n",
    "link = link_elements[0]\n",
    "# inspect the link\n",
    "link"
   ]
  },
  {
   "cell_type": "markdown",
   "metadata": {},
   "source": [
    "### Click an element"
   ]
  },
  {
   "cell_type": "code",
   "execution_count": 9,
   "metadata": {},
   "outputs": [],
   "source": [
    "# click on the link\n",
    "link.click()"
   ]
  },
  {
   "cell_type": "markdown",
   "metadata": {},
   "source": [
    "## Task 2: Retrieve text information by tag and attributes"
   ]
  },
  {
   "cell_type": "markdown",
   "metadata": {},
   "source": [
    "### Find element by tag and attributes (using Xpath)"
   ]
  },
  {
   "cell_type": "markdown",
   "metadata": {},
   "source": [
    "Sometimes we need to identify elements of interests using tags and attributes."
   ]
  },
  {
   "cell_type": "markdown",
   "metadata": {},
   "source": [
    "For example, each news is contained in a `div` with a specific class attribute.\n",
    "\n",
    "So we try the xpath:\n",
    "\n",
    "`//div[@class='news-text']`"
   ]
  },
  {
   "cell_type": "code",
   "execution_count": 11,
   "metadata": {},
   "outputs": [],
   "source": [
    "# set url (as a text string)\n",
    "url = \"https://www.aeaweb.org/research?path=research&page=1&per-page=10#list\"\n",
    "# load url\n",
    "driver.get(url)"
   ]
  },
  {
   "cell_type": "code",
   "execution_count": 12,
   "metadata": {
    "scrolled": true
   },
   "outputs": [
    {
     "name": "stderr",
     "output_type": "stream",
     "text": [
      "/var/folders/8h/qk3v0tzx38s3f9x_dxz5wd2x22y8gc/T/ipykernel_9674/302468621.py:2: DeprecationWarning: find_elements_by_xpath is deprecated. Please use find_elements(by=By.XPATH, value=xpath) instead\n",
      "  news_elements = driver.find_elements_by_xpath(\"//div[@class='news-text']\")\n"
     ]
    },
    {
     "data": {
      "text/plain": [
       "[<selenium.webdriver.remote.webelement.WebElement (session=\"5d7b3de76bbabe48244cbf6993cb12cf\", element=\"d0a98691-619e-42a0-ab17-369c860a45d3\")>,\n",
       " <selenium.webdriver.remote.webelement.WebElement (session=\"5d7b3de76bbabe48244cbf6993cb12cf\", element=\"36a77cc0-7511-4e99-a638-7aadbc3046d5\")>,\n",
       " <selenium.webdriver.remote.webelement.WebElement (session=\"5d7b3de76bbabe48244cbf6993cb12cf\", element=\"e9a4e4ff-b781-4ed4-8dea-1536db2b5499\")>,\n",
       " <selenium.webdriver.remote.webelement.WebElement (session=\"5d7b3de76bbabe48244cbf6993cb12cf\", element=\"f6cd3baf-db38-4ddf-aa8a-5fb0dc16c003\")>,\n",
       " <selenium.webdriver.remote.webelement.WebElement (session=\"5d7b3de76bbabe48244cbf6993cb12cf\", element=\"d8f871d3-852b-4c52-b260-668825f44ebe\")>,\n",
       " <selenium.webdriver.remote.webelement.WebElement (session=\"5d7b3de76bbabe48244cbf6993cb12cf\", element=\"3c6a78de-95cc-4fff-a0fb-2ca703e69d2f\")>,\n",
       " <selenium.webdriver.remote.webelement.WebElement (session=\"5d7b3de76bbabe48244cbf6993cb12cf\", element=\"ea9f31af-45e7-4655-80d7-625c0f5b6b8f\")>,\n",
       " <selenium.webdriver.remote.webelement.WebElement (session=\"5d7b3de76bbabe48244cbf6993cb12cf\", element=\"2afa6acb-1d4f-4184-9772-349ac98302a9\")>,\n",
       " <selenium.webdriver.remote.webelement.WebElement (session=\"5d7b3de76bbabe48244cbf6993cb12cf\", element=\"270323d9-5033-4c98-9e5d-bfa8cbc5d13b\")>,\n",
       " <selenium.webdriver.remote.webelement.WebElement (session=\"5d7b3de76bbabe48244cbf6993cb12cf\", element=\"3e4550ee-6279-44e9-9213-984264283a45\")>]"
      ]
     },
     "execution_count": 12,
     "metadata": {},
     "output_type": "execute_result"
    }
   ],
   "source": [
    "# ask selenium to return elements by tag and contained text using Xpath\n",
    "news_elements = driver.find_elements_by_xpath(\"//div[@class='news-text']\")\n",
    "# inspect the returned elements (a python list)\n",
    "news_elements"
   ]
  },
  {
   "cell_type": "code",
   "execution_count": 13,
   "metadata": {},
   "outputs": [
    {
     "data": {
      "text/plain": [
       "10"
      ]
     },
     "execution_count": 13,
     "metadata": {},
     "output_type": "execute_result"
    }
   ],
   "source": [
    "# inspect how many elements were found\n",
    "len(news_elements)"
   ]
  },
  {
   "cell_type": "code",
   "execution_count": 14,
   "metadata": {
    "scrolled": true
   },
   "outputs": [
    {
     "data": {
      "text/plain": [
       "'Mental health therapy in the developing world\\nJanuary 23, 2023\\nNathan Barker discusses the impact of cognitive behavioral therapy in rural Ghana.'"
      ]
     },
     "execution_count": 14,
     "metadata": {},
     "output_type": "execute_result"
    }
   ],
   "source": [
    "# store the first element\n",
    "news_element = news_elements[0]\n",
    "# return its text\n",
    "news_element.text"
   ]
  },
  {
   "cell_type": "markdown",
   "metadata": {},
   "source": [
    "We can now use the `.split` method in python, to separate the text into three parts."
   ]
  },
  {
   "cell_type": "code",
   "execution_count": 15,
   "metadata": {
    "scrolled": false
   },
   "outputs": [
    {
     "data": {
      "text/plain": [
       "['Mental health therapy in the developing world',\n",
       " 'January 23, 2023',\n",
       " 'Nathan Barker discusses the impact of cognitive behavioral therapy in rural Ghana.']"
      ]
     },
     "execution_count": 15,
     "metadata": {},
     "output_type": "execute_result"
    }
   ],
   "source": [
    "# split the returned text by `\\n`, which is linebreak, into a list\n",
    "text_list = news_element.text.split('\\n')\n",
    "# inspect\n",
    "text_list"
   ]
  },
  {
   "cell_type": "code",
   "execution_count": 16,
   "metadata": {},
   "outputs": [],
   "source": [
    "# store title\n",
    "title = text_list[0]\n",
    "# store date\n",
    "date = text_list[1]\n",
    "# store date\n",
    "summary = text_list[2]"
   ]
  },
  {
   "cell_type": "code",
   "execution_count": 17,
   "metadata": {},
   "outputs": [
    {
     "data": {
      "text/plain": [
       "'Mental health therapy in the developing world'"
      ]
     },
     "execution_count": 17,
     "metadata": {},
     "output_type": "execute_result"
    }
   ],
   "source": [
    "title"
   ]
  },
  {
   "cell_type": "code",
   "execution_count": 18,
   "metadata": {
    "scrolled": true
   },
   "outputs": [
    {
     "data": {
      "text/plain": [
       "'January 23, 2023'"
      ]
     },
     "execution_count": 18,
     "metadata": {},
     "output_type": "execute_result"
    }
   ],
   "source": [
    "date"
   ]
  },
  {
   "cell_type": "code",
   "execution_count": 19,
   "metadata": {},
   "outputs": [
    {
     "data": {
      "text/plain": [
       "'Nathan Barker discusses the impact of cognitive behavioral therapy in rural Ghana.'"
      ]
     },
     "execution_count": 19,
     "metadata": {},
     "output_type": "execute_result"
    }
   ],
   "source": [
    "summary"
   ]
  },
  {
   "cell_type": "markdown",
   "metadata": {},
   "source": [
    "### A note: CSS selectors"
   ]
  },
  {
   "cell_type": "markdown",
   "metadata": {},
   "source": [
    "**CSS selectors** is another script language to select elements in HTML scripts, which has slightly different conventions from Xpath.\n",
    "\n",
    "Sometimes, it may be more convenient to use CSS selectors. "
   ]
  },
  {
   "cell_type": "markdown",
   "metadata": {},
   "source": [
    "For example, if the HTML element of choice is \n",
    "`<a href=\"/journals\">Journals</a>`,\n",
    "we might come up with a CSS selector of \n",
    "\n",
    "`a[href='/journals']`\n",
    "\n",
    "to select by tag `<a>` and attribute `href` that is equal to the text string `'/journals'`"
   ]
  },
  {
   "cell_type": "markdown",
   "metadata": {},
   "source": [
    "# Python lists"
   ]
  },
  {
   "cell_type": "markdown",
   "metadata": {},
   "source": [
    "Python list is a data structure used to store a series of related contents, such as values or strings. "
   ]
  },
  {
   "cell_type": "code",
   "execution_count": null,
   "metadata": {},
   "outputs": [],
   "source": [
    "# initiate an example list\n",
    "test = []\n",
    "test"
   ]
  },
  {
   "cell_type": "code",
   "execution_count": null,
   "metadata": {},
   "outputs": [],
   "source": [
    "# define list by entering data\n",
    "test = [1, 2, 3]\n",
    "# inspect\n",
    "test"
   ]
  },
  {
   "cell_type": "code",
   "execution_count": null,
   "metadata": {},
   "outputs": [],
   "source": [
    "# append element to the end a list\n",
    "test.append(4)\n",
    "# inspect\n",
    "test"
   ]
  },
  {
   "cell_type": "code",
   "execution_count": null,
   "metadata": {},
   "outputs": [],
   "source": [
    "# define list by entering text\n",
    "test = ['a', 'b', 'c']\n",
    "# inspect\n",
    "test"
   ]
  },
  {
   "cell_type": "code",
   "execution_count": null,
   "metadata": {
    "scrolled": true
   },
   "outputs": [],
   "source": [
    "# append element to the end a list\n",
    "test.append('d')\n",
    "# inspect\n",
    "test"
   ]
  },
  {
   "cell_type": "markdown",
   "metadata": {},
   "source": [
    "Now we can prepare lists to store collected text data"
   ]
  },
  {
   "cell_type": "code",
   "execution_count": 30,
   "metadata": {},
   "outputs": [],
   "source": [
    "# initiate empty lists to store result\n",
    "title = []\n",
    "date = []\n",
    "summary = []"
   ]
  },
  {
   "cell_type": "markdown",
   "metadata": {},
   "source": [
    "# `for` loops in Python"
   ]
  },
  {
   "cell_type": "markdown",
   "metadata": {},
   "source": [
    "`for` loops in python is marked by `:` and indented scripts with four spaces, there is no `end` mark for a loop."
   ]
  },
  {
   "cell_type": "code",
   "execution_count": 28,
   "metadata": {},
   "outputs": [
    {
     "data": {
      "text/plain": [
       "'Mental health therapy in the developing world'"
      ]
     },
     "execution_count": 28,
     "metadata": {},
     "output_type": "execute_result"
    }
   ],
   "source": [
    "news_element = news_elements[0]\n",
    "text_list = news_element.text.split('\\n')\n",
    "text_list[0]"
   ]
  },
  {
   "cell_type": "code",
   "execution_count": 31,
   "metadata": {},
   "outputs": [],
   "source": [
    "# loop through all elements found previously in news_elements\n",
    "for news_element in news_elements:\n",
    "    # split text from each element\n",
    "    text_list = news_element.text.split('\\n')\n",
    "    # append title\n",
    "    title.append(text_list[0])\n",
    "    # append date\n",
    "    date.append(text_list[1])\n",
    "    # append summary\n",
    "    summary.append(text_list[2])"
   ]
  },
  {
   "cell_type": "code",
   "execution_count": 32,
   "metadata": {},
   "outputs": [
    {
     "data": {
      "text/plain": [
       "['Mental health therapy in the developing world',\n",
       " 'Teacher diversity in the classroom',\n",
       " '2022 in Research Highlights',\n",
       " 'How good is popular financial advice?',\n",
       " 'Parental investment and educational attainment',\n",
       " 'The costs of cultural traditions',\n",
       " 'The economic origins of self-governance',\n",
       " 'Fundraising Appeals and the Lift/Shift Question',\n",
       " 'Local elections in China',\n",
       " 'School bullying, cyberbullying, and remote learning']"
      ]
     },
     "execution_count": 32,
     "metadata": {},
     "output_type": "execute_result"
    }
   ],
   "source": [
    "# inspect\n",
    "title"
   ]
  },
  {
   "cell_type": "code",
   "execution_count": 34,
   "metadata": {},
   "outputs": [
    {
     "data": {
      "text/plain": [
       "['January 23, 2023',\n",
       " 'January 10, 2023',\n",
       " 'December 27, 2022',\n",
       " 'December 13, 2022',\n",
       " 'November 28, 2022',\n",
       " 'November 15, 2022',\n",
       " 'November 2, 2022',\n",
       " 'October 20, 2022',\n",
       " 'October 3, 2022',\n",
       " 'September 19, 2022']"
      ]
     },
     "execution_count": 34,
     "metadata": {},
     "output_type": "execute_result"
    }
   ],
   "source": [
    "# inspect\n",
    "date"
   ]
  },
  {
   "cell_type": "code",
   "execution_count": 33,
   "metadata": {},
   "outputs": [
    {
     "data": {
      "text/plain": [
       "['Nathan Barker discusses the impact of cognitive behavioral therapy in rural Ghana.',\n",
       " 'Does exposure to same-race teachers help students in the long run?',\n",
       " 'Economists addressed the returns to an economics degree, why workers in bigger cities have higher wages, grade inflation, and more.',\n",
       " 'James Choi discusses how advice from popular financial authors differs from the theories and models of academic economists.',\n",
       " 'How does family background affect college completion?',\n",
       " 'Eduardo Montero and Dean Yang discuss the long-term economic consequences of religious festivals in Mexico that coincide with peak planting or harvest months.',\n",
       " 'How did commerce in England influence parliamentary representation?',\n",
       " 'Sarah Smith discusses the impact of major fundraising interventions on overall charitable donations.',\n",
       " 'Why do autocracies sometimes use democratic institutions?',\n",
       " 'Andrew Bacher-Hicks and Joshua Goodman discuss the effects of the pandemic on bullying.']"
      ]
     },
     "execution_count": 33,
     "metadata": {},
     "output_type": "execute_result"
    }
   ],
   "source": [
    "# inspect\n",
    "summary"
   ]
  },
  {
   "cell_type": "markdown",
   "metadata": {},
   "source": [
    "# Python package: pandas"
   ]
  },
  {
   "cell_type": "markdown",
   "metadata": {},
   "source": [
    "Pandas is a python library designed to work with data analysis. It provides a large set of tools in data processing. \n",
    "\n",
    "Here, we will use pandas to organize our lists of results into a excel file. "
   ]
  },
  {
   "cell_type": "code",
   "execution_count": 45,
   "metadata": {},
   "outputs": [
    {
     "data": {
      "text/html": [
       "<div>\n",
       "<style scoped>\n",
       "    .dataframe tbody tr th:only-of-type {\n",
       "        vertical-align: middle;\n",
       "    }\n",
       "\n",
       "    .dataframe tbody tr th {\n",
       "        vertical-align: top;\n",
       "    }\n",
       "\n",
       "    .dataframe thead th {\n",
       "        text-align: right;\n",
       "    }\n",
       "</style>\n",
       "<table border=\"1\" class=\"dataframe\">\n",
       "  <thead>\n",
       "    <tr style=\"text-align: right;\">\n",
       "      <th></th>\n",
       "      <th>title</th>\n",
       "      <th>date</th>\n",
       "      <th>summary</th>\n",
       "    </tr>\n",
       "  </thead>\n",
       "  <tbody>\n",
       "    <tr>\n",
       "      <th>1</th>\n",
       "      <td>Mental health therapy in the developing world</td>\n",
       "      <td>January 23, 2023</td>\n",
       "      <td>Nathan Barker discusses the impact of cognitiv...</td>\n",
       "    </tr>\n",
       "    <tr>\n",
       "      <th>2</th>\n",
       "      <td>Teacher diversity in the classroom</td>\n",
       "      <td>January 10, 2023</td>\n",
       "      <td>Does exposure to same-race teachers help stude...</td>\n",
       "    </tr>\n",
       "    <tr>\n",
       "      <th>3</th>\n",
       "      <td>2022 in Research Highlights</td>\n",
       "      <td>December 27, 2022</td>\n",
       "      <td>Economists addressed the returns to an economi...</td>\n",
       "    </tr>\n",
       "    <tr>\n",
       "      <th>4</th>\n",
       "      <td>How good is popular financial advice?</td>\n",
       "      <td>December 13, 2022</td>\n",
       "      <td>James Choi discusses how advice from popular f...</td>\n",
       "    </tr>\n",
       "    <tr>\n",
       "      <th>5</th>\n",
       "      <td>Parental investment and educational attainment</td>\n",
       "      <td>November 28, 2022</td>\n",
       "      <td>How does family background affect college comp...</td>\n",
       "    </tr>\n",
       "    <tr>\n",
       "      <th>6</th>\n",
       "      <td>The costs of cultural traditions</td>\n",
       "      <td>November 15, 2022</td>\n",
       "      <td>Eduardo Montero and Dean Yang discuss the long...</td>\n",
       "    </tr>\n",
       "    <tr>\n",
       "      <th>7</th>\n",
       "      <td>The economic origins of self-governance</td>\n",
       "      <td>November 2, 2022</td>\n",
       "      <td>How did commerce in England influence parliame...</td>\n",
       "    </tr>\n",
       "    <tr>\n",
       "      <th>8</th>\n",
       "      <td>Fundraising Appeals and the Lift/Shift Question</td>\n",
       "      <td>October 20, 2022</td>\n",
       "      <td>Sarah Smith discusses the impact of major fund...</td>\n",
       "    </tr>\n",
       "    <tr>\n",
       "      <th>9</th>\n",
       "      <td>Local elections in China</td>\n",
       "      <td>October 3, 2022</td>\n",
       "      <td>Why do autocracies sometimes use democratic in...</td>\n",
       "    </tr>\n",
       "    <tr>\n",
       "      <th>10</th>\n",
       "      <td>School bullying, cyberbullying, and remote lea...</td>\n",
       "      <td>September 19, 2022</td>\n",
       "      <td>Andrew Bacher-Hicks and Joshua Goodman discuss...</td>\n",
       "    </tr>\n",
       "  </tbody>\n",
       "</table>\n",
       "</div>"
      ],
      "text/plain": [
       "                                                title                date  \\\n",
       "1       Mental health therapy in the developing world    January 23, 2023   \n",
       "2                  Teacher diversity in the classroom    January 10, 2023   \n",
       "3                         2022 in Research Highlights   December 27, 2022   \n",
       "4               How good is popular financial advice?   December 13, 2022   \n",
       "5      Parental investment and educational attainment   November 28, 2022   \n",
       "6                    The costs of cultural traditions   November 15, 2022   \n",
       "7             The economic origins of self-governance    November 2, 2022   \n",
       "8     Fundraising Appeals and the Lift/Shift Question    October 20, 2022   \n",
       "9                            Local elections in China     October 3, 2022   \n",
       "10  School bullying, cyberbullying, and remote lea...  September 19, 2022   \n",
       "\n",
       "                                              summary  \n",
       "1   Nathan Barker discusses the impact of cognitiv...  \n",
       "2   Does exposure to same-race teachers help stude...  \n",
       "3   Economists addressed the returns to an economi...  \n",
       "4   James Choi discusses how advice from popular f...  \n",
       "5   How does family background affect college comp...  \n",
       "6   Eduardo Montero and Dean Yang discuss the long...  \n",
       "7   How did commerce in England influence parliame...  \n",
       "8   Sarah Smith discusses the impact of major fund...  \n",
       "9   Why do autocracies sometimes use democratic in...  \n",
       "10  Andrew Bacher-Hicks and Joshua Goodman discuss...  "
      ]
     },
     "execution_count": 45,
     "metadata": {},
     "output_type": "execute_result"
    }
   ],
   "source": [
    "### set output excel file path and file name\n",
    "xls_name = \"/Users/lhe/Downloads/research_highlights.xlsx\"\n",
    "\n",
    "# set column names for the data frame\n",
    "column_names = [\"title\", \"date\", \"summary\"]\n",
    "\n",
    "### create data frame using scraped and updated information\n",
    "# create full set of column names\n",
    "result_list_new = pd.DataFrame(columns = column_names)\n",
    "# store results into df\n",
    "result_list_new[\"title\"] = title\n",
    "result_list_new[\"date\"] = date\n",
    "result_list_new[\"summary\"] = summary\n",
    "# add df index by 1\n",
    "result_list_new.index += 1 \n",
    "\n",
    "# inspect\n",
    "result_list_new\n"
   ]
  },
  {
   "cell_type": "code",
   "execution_count": null,
   "metadata": {},
   "outputs": [],
   "source": [
    "\n",
    "# save file to excel (freeze top row)\n",
    "result_list_new.to_excel(xls_name,index=True,freeze_panes=(1,2))"
   ]
  },
  {
   "cell_type": "markdown",
   "metadata": {},
   "source": [
    "# Python package: BeautifulSoup"
   ]
  },
  {
   "cell_type": "markdown",
   "metadata": {},
   "source": [
    "BeautifulSoup is a python package that processes HTML source code *quickly*."
   ]
  },
  {
   "cell_type": "code",
   "execution_count": 36,
   "metadata": {},
   "outputs": [],
   "source": [
    "# pass HTML source code from selenium to BeautifulSoup\n",
    "# pass selenium driver source page to BS4\n",
    "page_source = driver.page_source\n",
    "# parse page source with BS4\n",
    "page_soup = soup(page_source, \"html.parser\")"
   ]
  },
  {
   "cell_type": "code",
   "execution_count": 38,
   "metadata": {},
   "outputs": [
    {
     "data": {
      "text/plain": [
       "<div class=\"news-text\">\n",
       "<img alt=\"\" class=\"news-thumbnail\" src=\"/content/file?id=18007\"/>\n",
       "<h4>\n",
       "<a href=\"/research/cognitive-behavioral-therapy-ghana\">Mental health therapy in the developing world</a> </h4>\n",
       "<h6 class=\"published-at\">January 23, 2023</h6>\n",
       "\n",
       "                    \n",
       "                    Nathan Barker discusses the impact of cognitive behavioral therapy in rural Ghana.\n",
       "                    </div>"
      ]
     },
     "execution_count": 38,
     "metadata": {},
     "output_type": "execute_result"
    }
   ],
   "source": [
    "div = page_soup.find(\"div\", {\"class\": \"news-text\"})\n",
    "div"
   ]
  },
  {
   "cell_type": "code",
   "execution_count": 40,
   "metadata": {},
   "outputs": [],
   "source": [
    "# initiate empty lists to store result\n",
    "title = []\n",
    "date = []\n",
    "summary = []"
   ]
  },
  {
   "cell_type": "code",
   "execution_count": 41,
   "metadata": {},
   "outputs": [],
   "source": [
    "# loop through all `<a>` tags with a given href pattern\n",
    "for div in page_soup.find_all(\"div\", {\"class\" : \"news-text\"}):\n",
    "    title.append(div.find(\"a\").text.strip())\n",
    "    date.append(div.find(\"h6\", {\"class\" : \"published-at\"}).text.strip())\n",
    "    summary.append(div.contents[-1].strip())"
   ]
  },
  {
   "cell_type": "code",
   "execution_count": null,
   "metadata": {},
   "outputs": [
    {
     "data": {
      "text/html": [
       "<div>\n",
       "<style scoped>\n",
       "    .dataframe tbody tr th:only-of-type {\n",
       "        vertical-align: middle;\n",
       "    }\n",
       "\n",
       "    .dataframe tbody tr th {\n",
       "        vertical-align: top;\n",
       "    }\n",
       "\n",
       "    .dataframe thead th {\n",
       "        text-align: right;\n",
       "    }\n",
       "</style>\n",
       "<table border=\"1\" class=\"dataframe\">\n",
       "  <thead>\n",
       "    <tr style=\"text-align: right;\">\n",
       "      <th></th>\n",
       "      <th>title</th>\n",
       "      <th>date</th>\n",
       "      <th>summary</th>\n",
       "    </tr>\n",
       "  </thead>\n",
       "  <tbody>\n",
       "    <tr>\n",
       "      <th>1</th>\n",
       "      <td>Mental health therapy in the developing world</td>\n",
       "      <td>January 23, 2023</td>\n",
       "      <td>Nathan Barker discusses the impact of cognitiv...</td>\n",
       "    </tr>\n",
       "    <tr>\n",
       "      <th>2</th>\n",
       "      <td>Teacher diversity in the classroom</td>\n",
       "      <td>January 10, 2023</td>\n",
       "      <td>Does exposure to same-race teachers help stude...</td>\n",
       "    </tr>\n",
       "    <tr>\n",
       "      <th>3</th>\n",
       "      <td>2022 in Research Highlights</td>\n",
       "      <td>December 27, 2022</td>\n",
       "      <td>Economists addressed the returns to an economi...</td>\n",
       "    </tr>\n",
       "    <tr>\n",
       "      <th>4</th>\n",
       "      <td>How good is popular financial advice?</td>\n",
       "      <td>December 13, 2022</td>\n",
       "      <td>James Choi discusses how advice from popular f...</td>\n",
       "    </tr>\n",
       "    <tr>\n",
       "      <th>5</th>\n",
       "      <td>Parental investment and educational attainment</td>\n",
       "      <td>November 28, 2022</td>\n",
       "      <td>How does family background affect college comp...</td>\n",
       "    </tr>\n",
       "    <tr>\n",
       "      <th>6</th>\n",
       "      <td>The costs of cultural traditions</td>\n",
       "      <td>November 15, 2022</td>\n",
       "      <td>Eduardo Montero and Dean Yang discuss the long...</td>\n",
       "    </tr>\n",
       "    <tr>\n",
       "      <th>7</th>\n",
       "      <td>The economic origins of self-governance</td>\n",
       "      <td>November 2, 2022</td>\n",
       "      <td>How did commerce in England influence parliame...</td>\n",
       "    </tr>\n",
       "    <tr>\n",
       "      <th>8</th>\n",
       "      <td>Fundraising Appeals and the Lift/Shift Question</td>\n",
       "      <td>October 20, 2022</td>\n",
       "      <td>Sarah Smith discusses the impact of major fund...</td>\n",
       "    </tr>\n",
       "    <tr>\n",
       "      <th>9</th>\n",
       "      <td>Local elections in China</td>\n",
       "      <td>October 3, 2022</td>\n",
       "      <td>Why do autocracies sometimes use democratic in...</td>\n",
       "    </tr>\n",
       "    <tr>\n",
       "      <th>10</th>\n",
       "      <td>School bullying, cyberbullying, and remote lea...</td>\n",
       "      <td>September 19, 2022</td>\n",
       "      <td>Andrew Bacher-Hicks and Joshua Goodman discuss...</td>\n",
       "    </tr>\n",
       "  </tbody>\n",
       "</table>\n",
       "</div>"
      ],
      "text/plain": [
       "                                                title                date  \\\n",
       "1       Mental health therapy in the developing world    January 23, 2023   \n",
       "2                  Teacher diversity in the classroom    January 10, 2023   \n",
       "3                         2022 in Research Highlights   December 27, 2022   \n",
       "4               How good is popular financial advice?   December 13, 2022   \n",
       "5      Parental investment and educational attainment   November 28, 2022   \n",
       "6                    The costs of cultural traditions   November 15, 2022   \n",
       "7             The economic origins of self-governance    November 2, 2022   \n",
       "8     Fundraising Appeals and the Lift/Shift Question    October 20, 2022   \n",
       "9                            Local elections in China     October 3, 2022   \n",
       "10  School bullying, cyberbullying, and remote lea...  September 19, 2022   \n",
       "\n",
       "                                              summary  \n",
       "1   Nathan Barker discusses the impact of cognitiv...  \n",
       "2   Does exposure to same-race teachers help stude...  \n",
       "3   Economists addressed the returns to an economi...  \n",
       "4   James Choi discusses how advice from popular f...  \n",
       "5   How does family background affect college comp...  \n",
       "6   Eduardo Montero and Dean Yang discuss the long...  \n",
       "7   How did commerce in England influence parliame...  \n",
       "8   Sarah Smith discusses the impact of major fund...  \n",
       "9   Why do autocracies sometimes use democratic in...  \n",
       "10  Andrew Bacher-Hicks and Joshua Goodman discuss...  "
      ]
     },
     "metadata": {},
     "output_type": "display_data"
    }
   ],
   "source": [
    "### set output excel file path and file name\n",
    "xls_name = \"/Users/lhe/Downloads/research_highlights.xlsx\"\n",
    "\n",
    "# set column names for the data frame\n",
    "column_names = [\"title\", \"date\", \"summary\"]\n",
    "\n",
    "### create data frame using scraped and updated information\n",
    "# create full set of column names\n",
    "result_list_new = pd.DataFrame(columns = column_names)\n",
    "# store results into df\n",
    "result_list_new[\"title\"] = title\n",
    "result_list_new[\"date\"] = date\n",
    "result_list_new[\"summary\"] = summary\n",
    "# add df index by 1\n",
    "result_list_new.index += 1 \n",
    "\n",
    "# inspect\n",
    "result_list_new\n"
   ]
  },
  {
   "cell_type": "code",
   "execution_count": null,
   "metadata": {},
   "outputs": [],
   "source": [
    "\n",
    "# save file to excel (freeze top row)\n",
    "result_list_new.to_excel(xls_name,index=True,freeze_panes=(1,2))"
   ]
  }
 ],
 "metadata": {
  "kernelspec": {
   "display_name": "Python 3 (ipykernel)",
   "language": "python",
   "name": "python3"
  },
  "language_info": {
   "codemirror_mode": {
    "name": "ipython",
    "version": 3
   },
   "file_extension": ".py",
   "mimetype": "text/x-python",
   "name": "python",
   "nbconvert_exporter": "python",
   "pygments_lexer": "ipython3",
   "version": "3.9.7"
  },
  "vscode": {
   "interpreter": {
    "hash": "a632428195b7a8ef688355398e4ea1ca2da9a23598126ed273e31a5d8c7adcc9"
   }
  }
 },
 "nbformat": 4,
 "nbformat_minor": 2
}
